{
 "cells": [
  {
   "cell_type": "markdown",
   "id": "78bb9a46-5877-4439-aba3-d181b108430d",
   "metadata": {},
   "source": [
    " # Сведение задачи быстродействия к системе дифференциальных уравнений"
   ]
  },
  {
   "cell_type": "markdown",
   "id": "f99ff58c-a376-4950-b23e-9e295758a2f7",
   "metadata": {
    "tags": []
   },
   "source": [
    "## Формулировка задачи"
   ]
  },
  {
   "cell_type": "markdown",
   "id": "47a38e26-7d71-4f9e-ae18-b29eb9c653df",
   "metadata": {},
   "source": [
    "Решается задача Лагранжа(47), с фиксированными концами:\n",
    "\n",
    "$$\\int_0^1 \\ddot{x}^2 + \\frac{48x}{1+ \\alpha t^2} \\rightarrow \\operatorname{extr}$$\n",
    "при $x(1) = \\dot{x}(0) = 0$ и $\\alpha \\in \\{ 0.0; 0.1; 1.0; 5.1\\}$\n"
   ]
  },
  {
   "cell_type": "markdown",
   "id": "b0f5de44-9a13-4ce3-a643-621bb7387326",
   "metadata": {
    "tags": []
   },
   "source": [
    "## Необходимые условия минимума"
   ]
  },
  {
   "cell_type": "markdown",
   "id": "8757ea54-9581-43d1-8234-d0c7fd635e0d",
   "metadata": {},
   "source": [
    "Для сокращения записей все громоздкие вычисления в отчете не приводятся. Также автор позволяет себе неточность обозначений, не всегда выделяя элементы оптимального решения $\\hat{x}$ по сравнению с неизвестными $x$.\n",
    "\n",
    "Введем управление:\n",
    "$$y = \\dot{x}, \\ \\ u = \\dot{y}$$\n",
    "\n",
    "Тогда задача переписывается:\n",
    "\n",
    "$$\\int_0^1 u^2 + \\frac{48x}{1+ \\alpha t^2} \\rightarrow \\operatorname{extr}$$\n",
    "при $x(1) = y(0) = 0$\n",
    "\n",
    "Запишем функцию Лагранжа:\n",
    "\n",
    "$$ \\mathcal{L} = \\int_{0}^{1} L dt + l $$\n",
    "\n",
    "$$L = \\lambda_{0} \\left( u^2 + \\frac{48x}{1+ \\alpha t^2} \\right) + p_1 (\\dot{x} - y) + p_2 (\\dot{y} - u)$$\n",
    "\n",
    "$$l = \\lambda_1 x(1) + \\lambda_2 y(0)$$"
   ]
  },
  {
   "cell_type": "markdown",
   "id": "ae8befd0-05d6-4254-9622-5eaa11ac1b32",
   "metadata": {},
   "source": [
    "И необходимые условия оптимальности:\n",
    "\n",
    "1) система уравнений Эйлера:\n",
    "\n",
    "$$- \\dot{p}_1 - \\frac{48\\lambda_0}{1+ \\alpha t^2} = 0$$\n",
    "\n",
    "$$-\\dot{p}_2 - p_1 = 0$$\n",
    "\n",
    "2) условия трансверсальности по x_i: \n",
    "\n",
    "$$p_1(0) = 0; \\ \\ p_1(1) = -\\lambda_1; \\ \\ \\\\\n",
    "p_2(0) = \\lambda_2; \\ \\ p_2(1) = 0; \\ \\ $$\n",
    "\n",
    "3) условие минимума по $u$(слогаемые не зависящие от u пропущены):\n",
    "\n",
    "$$u = \\operatorname{argmin}_{u} (\\lambda_0 u^2 - p_2 u) = \\frac{p_2}{2\\lambda_0}$$ \n",
    "\n",
    "4) условие неотрицательности $\\lambda_0 \\ge 0$"
   ]
  },
  {
   "cell_type": "markdown",
   "id": "6e46bc40-2347-47e0-b4bc-c1486e6871e2",
   "metadata": {
    "tags": []
   },
   "source": [
    "## Система дифференциальных уравнений"
   ]
  },
  {
   "cell_type": "markdown",
   "id": "f9860329-414a-4042-95f3-c72b6fb202f4",
   "metadata": {},
   "source": [
    "При $\\lambda_0=0$ получаем $\\lambda_1 = \\lambda_2 = 0$, следовательно этот случай можно откинуть. Положим $\\lambda_0 = 1/48$. Получаем систему:"
   ]
  },
  {
   "cell_type": "markdown",
   "id": "eea7c642-434b-454c-9097-ecdbc483e2d7",
   "metadata": {},
   "source": [
    "\n",
    "\\begin{matrix}\n",
    "\\dot{x}  &=& y \\\\ \n",
    "\\dot{y} &=& 48 p_2 \\\\\n",
    "\\dot{p_2} &=& - p_1\\\\\n",
    "\\dot{p_1}  &=& - \\frac{1}{1+\\alpha t^2} \\\\\n",
    "\\end{matrix}\n",
    "\n",
    "С краевыми условиями $x(1) = y(0) = p_1(0) = p_2(0) = 0$\n",
    "\n",
    "Дополняя систему недостающими начальными условиями: \n",
    "$$x(0) = \\alpha, \\ \\ p_2(0) = \\beta$$\n",
    "Получаем задачу Коши(отказываясь временно от граничных условий при $t = 1$),"
   ]
  },
  {
   "cell_type": "markdown",
   "id": "fe6015a8-2c09-428e-aebe-929e80c4b665",
   "metadata": {},
   "source": [
    "## Аналитическое решение"
   ]
  },
  {
   "cell_type": "markdown",
   "id": "75bd363c-21d1-4bde-8485-dfe97769fb1b",
   "metadata": {},
   "source": [
    "$$\\ddot{p_2} = \\frac{1}{1+\\alpha t^2}$$\n",
    "Рассматривая случай $\\alpha>0$:\n",
    "$$p_2 = \\frac{t \\arctan\\left(\\sqrt{\\alpha} t\\right)}{\\sqrt{\\alpha}} -\\frac{\\log \\left(\\alpha t^2+1\\right)}{2 \\alpha} +c_1 t+c_2$$\n",
    "\n",
    "$p_1(0) = \\dot{p_2}(0) = 0 \\Rightarrow$ $$c_1 = 0$$\n",
    "$p_2(1) = 0 \\Rightarrow$ $$c_1 = \\frac{\\arctan \\left(\\sqrt{\\alpha}\\right)}{\\sqrt{\\alpha}}-\\frac{\\log (\\alpha+1)}{2 \\alpha}$$\n",
    "\n",
    "Итого:\n",
    "$$p_2 = \\frac{t \\arctan\\left(\\sqrt{\\alpha} t\\right)  + \\arctan \\left(\\sqrt{\\alpha}\\right)}{\\sqrt{\\alpha}} - \n",
    "\\frac{\\log \\left(\\alpha t^2+1\\right) + \\log (\\alpha+1)}{2 \\alpha} $$\n",
    "\n",
    "Аналогично, для x, учитывая краевые условия получено(при помощи пакета Wolfram Mathematica):\n",
    "$$x(t) = \\frac{4}{\\alpha^2} \\left(5 \\alpha t^2+3 \\alpha t^2 \\log (a+1)-3 \\alpha t^2 \\log \\left(\\alpha t^2+1\\right)+\\log \\left(\\alpha t^2+1\\right)+ \\\\\n",
    "+2 \\sqrt{\\alpha} t \\left(\\alpha t^2-3\\right) \\tan ^{-1}\\left(\\sqrt{\\alpha} t\\right)-2 \\sqrt{\\alpha} \\left(\\alpha \\left(3 t^2-2\\right)-3\\right) \\tan ^{-1}\\left(\\sqrt{\\alpha}\\right)-5 \\alpha -\\log (\\alpha+1)\\right)$$"
   ]
  },
  {
   "cell_type": "markdown",
   "id": "31c1df05-a836-4bb3-832a-ae1025bd8e28",
   "metadata": {},
   "source": [
    "Рассматривая случай $\\alpha = 0$:\n",
    "    $$x(t) = 2 \\left(t^4-6 t^2+5\\right)$$"
   ]
  },
  {
   "cell_type": "markdown",
   "id": "ef7cd9aa-fe54-4f83-a8e6-b6b87625aefd",
   "metadata": {},
   "source": [
    "# Вспомогательный код:"
   ]
  },
  {
   "cell_type": "code",
   "execution_count": 1,
   "id": "f17914de-5255-4162-a275-b480fd4f3a20",
   "metadata": {},
   "outputs": [],
   "source": [
    "#вспомогательный код\n",
    "from rahmodule import *\n",
    "import numpy as np\n",
    "import os\n",
    "from matplotlib import pyplot as plt\n",
    "from tqdm.notebook import tqdm"
   ]
  },
  {
   "cell_type": "code",
   "execution_count": 2,
   "id": "9394b298-042f-4b69-9a05-3f8fc3735b9a",
   "metadata": {},
   "outputs": [],
   "source": [
    "#полученная система дифференциальных уравнений:\n",
    "\n",
    "def f1(t, X, a=0):\n",
    "    x, y, p1, p2 = X\n",
    "    #print(y, u_)\n",
    "    \n",
    "    xx1 = y\n",
    "    xx2 = 48*p2\n",
    "    pp2 = -p1\n",
    "    pp1 = -1/(1+a*t**2)\n",
    "    return np.array([xx1, xx2, pp1, pp2])\n",
    "\n",
    "#аналитическое решение при \\alpha=0\n",
    "def analitic_func(t):\n",
    "    return 2*(t**4 - 6*t**2+5)"
   ]
  },
  {
   "cell_type": "code",
   "execution_count": 3,
   "id": "a26549a9-0187-439c-8155-9768b309ebf4",
   "metadata": {},
   "outputs": [],
   "source": [
    "#невязка\n",
    "def X(x0, p20, f=f1, T=1, T_steps = 100, a = 0):\n",
    "    y0, p10 = 0, 0\n",
    "    Y = np.array([x0, y0, p10, p20])\n",
    "    t_grid, ans, hs = solve(Y, T=T, T_steps=T_steps, a=a, f=f)\n",
    "    X_ = [ans[-1][0], ans[-1][3]]\n",
    "    \n",
    "    #return np.append(X_, p1*x1*us[-1] + 1/6*(x2 - 4*x1)*(p1 - p2))\n",
    "    return np.array(X_)"
   ]
  },
  {
   "cell_type": "code",
   "execution_count": 4,
   "id": "73f2b468-a53f-4490-a7da-dad089cd49cf",
   "metadata": {},
   "outputs": [],
   "source": [
    "def save(point, ans, t_grid, alpha, pth):\n",
    "    if not os.path.isdir(pth):\n",
    "        os.mkdir(pth)\n",
    "    \n",
    "    with open(f\"./{pth}/params.txt\", 'w') as X__:\n",
    "        X__.write(f\"alpha: {alpha}, T points: {len(t_grid)}\\n\")\n",
    "        X__.write(f\"x0: {point[0]}, p20: {point[1]}\\n\")\n",
    "        X__.write(f\"Discrepancy: {[ans[-1][0], ans[-1][3]]}\")\n",
    "        \n",
    "    \n",
    "    with open(f\"./{pth}/trajectory.txt\", 'w') as X__:\n",
    "            for i in range(len(t_grid)):  \n",
    "                X__.write(f\"{t_grid[i]}, {ans[i][0]}, {ans[i][1]}, {ans[i][2]}, {ans[i][3]} \\n\")\n",
    "    "
   ]
  },
  {
   "cell_type": "markdown",
   "id": "f03a0005-6099-40ce-8731-050a7987fa98",
   "metadata": {},
   "source": [
    "# Решение при $\\alpha = 0$, сравнение с аналитическим. "
   ]
  },
  {
   "cell_type": "code",
   "execution_count": 5,
   "id": "60ac204b-0ba6-49a9-a64b-aa74fbdc29ce",
   "metadata": {},
   "outputs": [],
   "source": [
    "a = 0\n",
    "point = newtonian_finder(X, [0, 0], dim=2, a=a)\n",
    "y0 = [point[0], 0, 0, point[1]]\n",
    "t_grid, ans, hs = solve(y0, 1, T_steps = 100, a = a, f = f1)"
   ]
  },
  {
   "cell_type": "code",
   "execution_count": 6,
   "id": "0b06878f-63ed-419f-86f8-0a7fcc0dee46",
   "metadata": {},
   "outputs": [],
   "source": [
    "AN_SOL = []\n",
    "for t in np.arange(0, 1+0.01, 0.01):\n",
    "    AN_SOL.append(analitic_func(t))\n",
    "AN_SOL = np.array(AN_SOL)"
   ]
  },
  {
   "cell_type": "markdown",
   "id": "fd23b8ad-2366-432b-8f1b-c9c01d6b2b6e",
   "metadata": {},
   "source": [
    "Аналитическое и численное решение на одном графике:"
   ]
  },
  {
   "cell_type": "code",
   "execution_count": 7,
   "id": "b4d3186a-6c0e-48a9-912e-98a54ac58276",
   "metadata": {},
   "outputs": [
    {
     "data": {
      "text/plain": [
       "[<matplotlib.lines.Line2D at 0x140a3e8d4c8>,\n",
       " <matplotlib.lines.Line2D at 0x140a1e351c8>]"
      ]
     },
     "execution_count": 7,
     "metadata": {},
     "output_type": "execute_result"
    },
    {
     "data": {
      "image/png": "[encoded data removed]",
      "text/plain": [
       "<Figure size 432x288 with 1 Axes>"
      ]
     },
     "metadata": {
      "needs_background": "light"
     },
     "output_type": "display_data"
    }
   ],
   "source": [
    "plt.plot(t_grid, np.array([np.array(ans).T[0], AN_SOL]).T)"
   ]
  },
  {
   "cell_type": "markdown",
   "id": "35b7939d-6c53-4b2c-b9d2-f78f16f5f6e5",
   "metadata": {},
   "source": [
    "Разница аналитического и точного решения:"
   ]
  },
  {
   "cell_type": "code",
   "execution_count": 8,
   "id": "a98a15a0-b845-4b70-b4b5-ab9508f04f56",
   "metadata": {},
   "outputs": [
    {
     "data": {
      "text/plain": [
       "[<matplotlib.lines.Line2D at 0x140a3fb0608>]"
      ]
     },
     "execution_count": 8,
     "metadata": {},
     "output_type": "execute_result"
    },
    {
     "data": {
      "image/png": "[encoded data removed]",
      "text/plain": [
       "<Figure size 432x288 with 1 Axes>"
      ]
     },
     "metadata": {
      "needs_background": "light"
     },
     "output_type": "display_data"
    }
   ],
   "source": [
    "plt.plot(t_grid, np.array(ans).T[0] - AN_SOL)"
   ]
  },
  {
   "cell_type": "code",
   "execution_count": 9,
   "id": "7e7700d5-1523-4fbc-a846-a03d519bf907",
   "metadata": {},
   "outputs": [],
   "source": [
    "save(point = point, ans=ans, t_grid=t_grid, alpha=a, pth=\"00\")"
   ]
  },
  {
   "cell_type": "markdown",
   "id": "e73ab31b-e96f-4cba-80c7-d088aedf7d70",
   "metadata": {},
   "source": [
    "# Остальные $\\alpha$"
   ]
  },
  {
   "cell_type": "code",
   "execution_count": 10,
   "id": "92ca0a63-10b5-44b4-bd34-2e9f819f3bab",
   "metadata": {},
   "outputs": [
    {
     "name": "stdout",
     "output_type": "stream",
     "text": [
      "При $\\alpha = 0.1$, получены начальные условия: \n",
      " $x(0) = 9.82065315702208$, $p_1 (0) = 9.82065315702208$\n",
      "Невязка: [-5.3520438081378074e-11, 3.275364354737853e-12]\n",
      "График численного решения:\n"
     ]
    },
    {
     "data": {
      "image/png": "[encoded data removed]",
      "text/plain": [
       "<Figure size 432x288 with 1 Axes>"
      ]
     },
     "metadata": {
      "needs_background": "light"
     },
     "output_type": "display_data"
    },
    {
     "name": "stdout",
     "output_type": "stream",
     "text": [
      "При $\\alpha = 1$, получены начальные условия: \n",
      " $x(0) = 8.643337811787305$, $p_1 (0) = 8.643337811787305$\n",
      "Невязка: [-8.530476325319114e-11, 4.923145224822179e-13]\n",
      "График численного решения:\n"
     ]
    },
    {
     "data": {
      "image/png": "[encoded data removed]",
      "text/plain": [
       "<Figure size 432x288 with 1 Axes>"
      ]
     },
     "metadata": {
      "needs_background": "light"
     },
     "output_type": "display_data"
    },
    {
     "name": "stdout",
     "output_type": "stream",
     "text": [
      "При $\\alpha = 5.1$, получены начальные условия: \n",
      " $x(0) = 6.380489685459042$, $p_1 (0) = 6.380489685459042$\n",
      "Невязка: [6.9111383282915995e-15, -3.122502256758253e-17]\n",
      "График численного решения:\n"
     ]
    },
    {
     "data": {
      "image/png": "[encoded data removed]",
      "text/plain": [
       "<Figure size 432x288 with 1 Axes>"
      ]
     },
     "metadata": {
      "needs_background": "light"
     },
     "output_type": "display_data"
    }
   ],
   "source": [
    "for a in [0.1, 1, 5.1]:\n",
    "    point = newtonian_finder(X, [0, 0], dim=2, a=a)\n",
    "    y0 = [point[0], 0, 0, point[1]]\n",
    "    print(f\"При $\\\\alpha = {a}$, получены начальные условия: \\n $x(0) = {point[0]}$, $p_1 (0) = {point[0]}$\")\n",
    "    print(f\"Невязка: {[ans[-1][0], ans[-1][3]]}\") \n",
    "    t_grid, ans, hs = solve(y0, 1, T_steps = 100, a = a, f = f1)\n",
    "    print(\"График численного решения:\")\n",
    "    plt.plot(t_grid, np.array(ans).T[0])\n",
    "    plt.show()\n",
    "    save(point = point, ans=ans, t_grid=t_grid, alpha=a, pth=f\"{int(a*10)}\")"
   ]
  },
  {
   "cell_type": "code",
   "execution_count": null,
   "id": "32b910d3-8d50-48d6-9303-aa5d822ec342",
   "metadata": {},
   "outputs": [],
   "source": []
  }
 ],
 "metadata": {
  "kernelspec": {
   "display_name": "Python 3 (ipykernel)",
   "language": "python",
   "name": "python3"
  },
  "language_info": {
   "codemirror_mode": {
    "name": "ipython",
    "version": 3
   },
   "file_extension": ".py",
   "mimetype": "text/x-python",
   "name": "python",
   "nbconvert_exporter": "python",
   "pygments_lexer": "ipython3",
   "version": "3.7.4"
  }
 },
 "nbformat": 4,
 "nbformat_minor": 5
}
