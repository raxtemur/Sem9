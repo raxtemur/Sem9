{
 "cells": [
  {
   "cell_type": "markdown",
   "id": "51e6a0be-610c-45b2-8e44-ae4b8b29647a",
   "metadata": {},
   "source": [
    "Решается задача оптимального управления(47), с фиксированными концами и нефиксированным врменем:\n",
    "\n",
    "$T \\rightarrow \\infty, \\ \\ |u| \\le 1$\n",
    "\n",
    "$\\dot{x_1} = (u - \\frac{2}{3})x_1 + \\frac{x_2}{6}, \\ \\ \\dot{x_2}=\\frac{2x_1}{3} - \\frac{x_2}{6}$\n",
    "\n",
    "($x_1 > 0, x_2 > 0$ - Задача IAб1):\n",
    "\n",
    "\\begin{matrix}\n",
    "\\ \\ & x_1(0) & x_2(0) & x_1(T) & x_2(T)  \\\\\n",
    "a) & 3.0 & 5.0 & 2.0 & 2.5 \\\\\n",
    "b) & 0.1 & 5.0 & 1.0 & 1.5\\\\\n",
    "c) \\\\\n",
    "d) \\\\\n",
    "at \\ \\ all) & a_1 & b_1 & a_2 & b_2 \n",
    "\\end{matrix}\n",
    "\n"
   ]
  },
  {
   "cell_type": "markdown",
   "id": "b77a2a23-ff39-4bbe-992e-f381229f487c",
   "metadata": {},
   "source": [
    "$(x_1(0), x_2(0), p_1(0), p_2(0)) \\alpha + (1-\\alpha)(x_{10}(0), x_{20}(0), p_{10}(0), p_{20}(0)) $\n",
    "\n",
    "$(x_1(T), x_2(T))\\alpha + (1-\\alpha)(x_{10}(T), x_{20}(T))$\n",
    "\n",
    "\n",
    "\n",
    "$(2, 2.5)\\alpha + (1-\\alpha)(x_{10}(T), x_{20}(T))$\n",
    "\n",
    "$(p_{10}(0), p_{20}(0)) $\n",
    "\n",
    "$(2, 2.5)0.01 + (1-0.01)(x_{10}(T), x_{20}(T))$\n",
    "\n",
    "Нужно прислать: отчет и траектории решений(время, посчитанные граничные условия, управление в точке T)."
   ]
  },
  {
   "cell_type": "markdown",
   "id": "d5f58b87-26df-47a9-961c-a9c18071b338",
   "metadata": {},
   "source": [
    "Для сокращения записей все громоздкие вычисления в отчете не приводятся. Также автор позволяет себе неточность обозначений, не всегда выделяя элементы оптимального решения $\\hat{x}$ по сравнению с неизвестными $x$.\n",
    "\n",
    "Запишем функцию Лагранжа:\n",
    "\n",
    "$$ \\mathcal{L} = \\int_{0}^{T} L dt + l \\rightarrow \\infty $$\n",
    "\n",
    "$$L = p_1 (\\dot{x}_1 - ((u - \\frac{2}{3})x_1 + \\frac{x_2}{6})) + p_2 (\\dot{x_2} - (\\frac{2x_1}{3} - \\frac{x_2}{6}))$$\n",
    "\n",
    "$$l = \\lambda_0 T + \\lambda_1 (x_1(0) - a_1) + \\lambda_2 (x_1(T) - a_2) + \\lambda_3 (x_2(0) - b_1) + \\lambda_4 (x_2(T) - b_2)$$\n",
    "\n",
    "И необходимые условия оптимальности:\n",
    "\n",
    "1) система уравнений Эйлера:\n",
    "\n",
    "$\\dot{p_1} + p_1 u - \\frac{2}{3}(p_1 - p_2) = 0$\n",
    "\n",
    "$\\dot{p_2} + \\frac{1}{6}(p_1 - p_2) = 0$\n",
    "\n",
    "2) условия трансверсальности по x_i (не содержательны, но приведены для упрощения некоторых рассуждений): \n",
    "\n",
    "$p_1(0) = \\lambda_1; \\ \\ p_1(T) = -\\lambda_2; \\ \\ \n",
    "p_2(0) = \\lambda_3; \\ \\ p_2(T) = -\\lambda_4; \\ \\ $\n",
    "\n",
    "3) условие максимума по $u$(слогаемые не зависящие от u пропущены):\n",
    "\n",
    "$\\min_{u \\in [-1, 1]} (-p_1 u x_1) = -p_1 \\hat{u} x_1 \\Rightarrow$ \n",
    "\n",
    "$u = (1)I\\{ x_1 p_1 > 0 \\} + (-1) I\\{ x_1 p_1 < 0 \\} + (\\forall u) I\\{ x_1 p_1 = 0 \\}$\n",
    "\n",
    "4) условия стационарности по времени:\n",
    "$$\\mathcal{L}_T = l_T = \\lambda_0 + \\lambda_2 u(T)x_1(T) + \\frac{1}{6}(x_2(T)-4x_1(T))(\\lambda_2 - \\lambda_4) = \\\\\n",
    "= \\lambda_0 - p_1(T) u(T)x_1(T) -\n",
    "\\frac{1}{6}(x_2(T)-4x_1(T))(p_1(T) - p_2(T)) = 0\n",
    "$$\n",
    "\n",
    "5) условие неотрицательности $\\lambda_0 \\ge 0$\n",
    "\n",
    "В силу того что $\\lambda_0$ ограничен только последними двумя условиями, их можно соединить в одно:\n",
    "\n",
    "4) ' $p_1(T) u(T)x_1(T) + \\frac{1}{6}(x_2(T)-4x_1(T))(p_1(T) - p_2(T)) \\ge 0$"
   ]
  },
  {
   "cell_type": "markdown",
   "id": "df7f59eb-8eb0-4748-be61-1e53f6e0ea8c",
   "metadata": {},
   "source": []
  },
  {
   "cell_type": "markdown",
   "id": "72f619d7-1727-4fd4-a896-a92bfc243ba0",
   "metadata": {},
   "source": [
    "Итого получена система дифференциальных уравнений:\n",
    "\n",
    "\\begin{matrix}\n",
    "\\dot{x_1}  &=& (u - \\frac{2}{3})x_1 + \\frac{x_2}{6}, \\\\ \n",
    "\\dot{x_2} &=& \\frac{2x_1}{3} - \\frac{x_2}{6} \\\\\n",
    "\\dot{p_1} &=& - p_1 u + \\frac{2}{3}(p_1 - p_2) \\\\\n",
    "\\dot{p_2}  &=& - \\frac{1}{6}(p_1 - p_2) \\\\\n",
    "\\end{matrix}\n",
    "\n",
    "C граничными условиями заданными в таблице в исходной формулировке и дополнительными условиями: \n",
    "$$p_1(T) u(T)x_1(T) + \\frac{1}{6}(x_2(T)-4x_1(T))(p_1(T) - p_2(T)) \\ge 0$$\n",
    "\n",
    "Где u определено как:\n",
    "$$u = (1)I\\{ x_1 p_1 > 0 \\} + (-1) I\\{ x_1 p_1 < 0 \\} + (\\forall u) I\\{ x_1 p_1 = 0 \\}$$\n",
    "\n",
    "\n",
    "Дополняя систему недостающими начальными условиями: \n",
    "$$p_i(0) = \\alpha_i, \\ \\ i \\in \\{ 1, 2\\}$$\n",
    "Получаем задачу Коши(отказываясь временно от граничных условий при $t = T$), решение которой в общем случае зависит от параметров $\\alpha_1, \\alpha_2$. Итерационно считая решение задачи Коши (методом Рунге-Кутта) $\\hat{x}_i^j$(i-ая неизвестная на j-ой итерации) и оптимизируя методом Ньютона функцонал потерь(невязку): $X_i^j(\\alpha) = x_i^j(T) - \\hat{x}_i^j(T, \\alpha) $ по $ T$ и $\\alpha$ находими искомые.\n"
   ]
  },
  {
   "cell_type": "markdown",
   "id": "76b63b92-f8bb-4207-b848-3898ffc7a121",
   "metadata": {
    "tags": []
   },
   "source": [
    "# Код который можно вынести в библиотеку"
   ]
  },
  {
   "cell_type": "code",
   "execution_count": 2,
   "id": "7ff0809d-3425-45b0-a846-7d7356bb534b",
   "metadata": {},
   "outputs": [],
   "source": [
    "boundary_conditions = [[[3, 5], [2, 2.5]], [[0.1, 5], [1, 1.5]], [[0.01, 7.0], [2.0, 3.0]]]"
   ]
  },
  {
   "cell_type": "markdown",
   "id": "3d8f77de-e754-459e-806b-2cbc20860a77",
   "metadata": {
    "tags": []
   },
   "source": [
    "## Рунге-Кутт"
   ]
  },
  {
   "cell_type": "code",
   "execution_count": 3,
   "id": "baa6c864-ca2d-4c42-8075-63aa8126cfa4",
   "metadata": {},
   "outputs": [],
   "source": [
    "import numpy as np\n",
    "from matplotlib import pyplot as plt\n",
    "from tqdm.notebook import tqdm"
   ]
  },
  {
   "cell_type": "code",
   "execution_count": 4,
   "id": "22d621b4-5c3b-4f13-92e6-771b693920dc",
   "metadata": {
    "tags": []
   },
   "outputs": [],
   "source": [
    "def u(x1, p1):\n",
    "        if (x1*p1 >= 0):\n",
    "            return 1\n",
    "        else:\n",
    "            return -1\n",
    "\n",
    "def f(t, y):\n",
    "    x1, x2, p1, p2 = y\n",
    "    u_ = u(x1, p1)\n",
    "    #print(y, u_)\n",
    "    \n",
    "    xx1 = (u_ - 2/3)*x1 + x2/6\n",
    "    xx2 = 2/3*x1 - x2/6\n",
    "    pp1 = -p1*u_ + 2/3*(p1 - p2)\n",
    "    pp2 = -1/6*(p1 - p2)\n",
    "    return np.array([xx1, xx2, pp1, pp2])\n",
    "\n"
   ]
  },
  {
   "cell_type": "markdown",
   "id": "ecf9d134-bce8-42c9-84a2-7e5ec04efa42",
   "metadata": {
    "tags": []
   },
   "source": [
    "Решать будем Рунге-Кутта 4ого порядка:\n",
    "$$\\textbf{k}_1 = \\textbf{f} \\left( t_n, \\textbf{y}_n \\right), $$\n",
    "$$\\textbf{k}_2 = \\textbf{f} \\left( t_n + {h \\over 2}, \\textbf{y}_n + {h \\over 2} \\textbf{k}_1 \\right), $$\n",
    "$$\\textbf{k}_3 = \\textbf{f} \\left( t_n + {h \\over 2}, \\textbf{y}_n + {h \\over 2} \\textbf{k}_2 \\right), $$\n",
    "$$\\textbf{k}_4 = \\textbf{f} \\left( t_n + h, \\textbf{y}_n + h\\ \\textbf{k}_3 \\right). $$\n",
    "$$\\textbf{y}_{n+1} = \\varphi(t_n,  \\textbf{y}_n) = \\textbf{y}_n + {h \\over 6}(\\textbf{k}_1 + 2\\textbf{k}_2 + 2\\textbf{k}_3 + \\textbf{k}_4)$$\n",
    "\n",
    "Точность метода порядка $o(h^4)$. Для простаты по умолчанию считаем $h=T/1000$"
   ]
  },
  {
   "cell_type": "code",
   "execution_count": 5,
   "id": "8055edcc-9dd1-49b4-ae77-5c1b2c04bbed",
   "metadata": {
    "tags": []
   },
   "outputs": [],
   "source": [
    "def phi(t, y, h):\n",
    "    #h = T/T_steps\n",
    "    #print(t, y)\n",
    "    k1 = f(t, y)\n",
    "    k2 = f(t + h/2, y + h/2*k1)\n",
    "    k3 = f(t + h/2, y + h/2*k2)\n",
    "    k4 = f(t + h, y + h*k3)\n",
    "    \n",
    "    return y + h/6*(k1 + 2*k2 + 2*k3 + k4)"
   ]
  },
  {
   "cell_type": "code",
   "execution_count": 6,
   "id": "df75e1af-ea9d-4c53-9d12-9b5a34a4158a",
   "metadata": {
    "tags": []
   },
   "outputs": [],
   "source": [
    "#if nan stops\n",
    "def solve(y0, T, h_eps=1e-8, T_steps=1000):\n",
    "    h = T/T_steps\n",
    "    ans_grid = []\n",
    "    ans_grid.append(y0)\n",
    "    \n",
    "    left = 0\n",
    "    right = T\n",
    "    t_grid = [0]\n",
    "    t = left;\n",
    "    u_next = u(y0[0], y0[2])\n",
    "    h_len = [h]\n",
    "    u_vls = [u_next]\n",
    "    \n",
    "    \n",
    "    while(True):\n",
    "        if (t+h >= right):\n",
    "            break\n",
    "        \n",
    "        u_last = u_next\n",
    "        y_new = phi(t, ans_grid[-1], h)\n",
    "        u_next = u(y_new[0], y_new[2])\n",
    "        \n",
    "        #print(u_last, y_new, u_next)\n",
    "        \n",
    "        if (u_last == u_next or h < h_eps):\n",
    "            ans_grid.append(y_new)\n",
    "            u_vls\n",
    "            t += h\n",
    "            t_grid.append(t)\n",
    "            h_len.append(h)\n",
    "            u_vls.append(u_next)\n",
    "            if (h < h_eps):\n",
    "                h = T/T_steps\n",
    "        else:\n",
    "            h = h/2\n",
    "            u_next = u_last\n",
    "        \n",
    "        \n",
    "        \n",
    "        #if (right - t < h):\n",
    "        #    ans_grid.append(phi(t, ans_grid[-1], right - t, alpha=alpha))\n",
    "        #    t_grid.append(right)\n",
    "        #    break\n",
    "            \n",
    "        if np.isnan(ans_grid[-1][0]):\n",
    "            break\n",
    "    return (t_grid, ans_grid, u_vls, h_len)"
   ]
  },
  {
   "cell_type": "markdown",
   "id": "94941531-232e-417b-a435-64ed94d4b709",
   "metadata": {
    "tags": []
   },
   "source": [
    "## Невязка и Ньютон"
   ]
  },
  {
   "cell_type": "code",
   "execution_count": 7,
   "id": "75f6e88e-2631-4583-b8e4-90ef1c5c9e3c",
   "metadata": {},
   "outputs": [],
   "source": [
    "def X(p10, p20, T, boundary_conditions=boundary_conditions[0], lambda_case = 1):\n",
    "    x10, x20 = boundary_conditions[0]\n",
    "    y0 = np.array([x10, x20, p10, p20])\n",
    "    t_grid, ans, us, hs = solve(y0, T)\n",
    "    X_ = boundary_conditions[1] - ans[-1][0:2]\n",
    "    \n",
    "    x1, x2, p1, p2 = ans[-1]\n",
    "    #return np.append(X_, p1*x1*us[-1] + 1/6*(x2 - 4*x1)*(p1 - p2))\n",
    "    return np.append(X_, (p1*x1*us[-1] + 1/6*(x2 - 4*x1)*(p1 - p2)))"
   ]
  },
  {
   "cell_type": "code",
   "execution_count": 8,
   "id": "b699b566-d840-4fff-b96c-4b515a750c39",
   "metadata": {},
   "outputs": [],
   "source": [
    "def X_alternative(boundary_conditions, ans, us): \n",
    "    ans_grid = np.array(ans).T[0:2]    \n",
    "    opt_id = np.argmin(np.linalg.norm((ans_grid - np.array(boundary_conditions[1]).reshape(-1,1)).T, axis=1))\n",
    "    \n",
    "    #print(ans_grid)\n",
    "    #print((ans_grid - np.array(boundary_conditions[1]).reshape(-1,1)).T[1867])\n",
    "    #print(np.linalg.norm((ans_grid - np.array(boundary_conditions[1]).reshape(-1,1)).T, axis=1)[1867])\n",
    "    \n",
    "    if (opt_id == len(ans)):\n",
    "        print(f\"Optimal id {opt_id} is last!\")\n",
    "    x1, x2, p1, p2 = ans[opt_id]\n",
    "    X_ = boundary_conditions[1] - ans[opt_id][0:2]\n",
    "    return [np.append(X_, (p1*x1*us[-1] + 1/6*(x2 - 4*x1)*(p1 - p2))), opt_id]"
   ]
  },
  {
   "cell_type": "code",
   "execution_count": 9,
   "id": "c05da2df-fa15-4b6c-9b09-7c8dd4a6a53e",
   "metadata": {
    "tags": []
   },
   "outputs": [],
   "source": [
    "import copy\n",
    "\n",
    "def derivatives(func, p, dim=3, d=1e-3): #func should return np.array\n",
    "    zero = np.array([0.0]*dim) \n",
    "    d_vect = [zero]\n",
    "    function_values = [func(*p)]\n",
    "    Jac = []\n",
    "    for i in range(dim):\n",
    "        a = np.copy(zero)\n",
    "        a[i] = d\n",
    "        d_vect.append(a)\n",
    "        function_values.append(func(*(p+a)))\n",
    "        Jac.append((function_values[-1] - function_values[0])/d)\n",
    "        \n",
    "    #print(\"f vals:\", function_values)\n",
    "    #print(\"d_vect vals:\", d_vect)\n",
    "    \n",
    "    return np.array(Jac, ndmin=2).T\n",
    "#string - fixed function\n",
    "#column - fixed variable\n",
    "\n",
    "\n",
    "def newtonian_finder(func, p0, silent=1, steps=50, Jac_recount=1, d=1e-5, dim=3): # поиск начальных условий методом Ньютона \n",
    "    p = np.copy(p0)\n",
    "    f_vec = func(*p)\n",
    "    for k in tqdm(range(steps), disable=silent):\n",
    "        if(k%Jac_recount == 0):\n",
    "            Jac_f = derivatives(func, p, dim, d)\n",
    "            J_f_inv = np.linalg.inv(Jac_f)\n",
    "        \n",
    "        alpha = 1\n",
    "        while (alpha > 1e-8):\n",
    "            p_new = p - alpha * np.dot(J_f_inv, f_vec)\n",
    "            f_vec_new = func(*p_new)\n",
    "            if (np.linalg.norm(f_vec_new) < np.linalg.norm(f_vec)):\n",
    "                p = p_new\n",
    "                f_vec = f_vec_new\n",
    "                if not silent:\n",
    "                    print(f\" Step {k}, point {p}: {np.linalg.norm(f_vec)}\")\n",
    "                break\n",
    "            else: \n",
    "                alpha /= 2\n",
    "                if not silent:\n",
    "                    print(f\" Step {k}, alpha changed {alpha}\")\n",
    "        \n",
    "        \n",
    "        if (alpha < 1e-8):\n",
    "            print (\"terminated\")\n",
    "            break\n",
    "            \n",
    "        if np.linalg.norm(f_vec) < 1e-10:\n",
    "            break\n",
    "       \n",
    "    return p\n",
    "\n",
    "    if (np.linalg.norm(f_vec) > 1e-10):\n",
    "        return np.nan\n",
    "    else:\n",
    "        return p\n"
   ]
  },
  {
   "cell_type": "code",
   "execution_count": 10,
   "id": "a91548e1-86b9-476c-9d56-0ca4e3ba8736",
   "metadata": {},
   "outputs": [
    {
     "data": {
      "text/plain": [
       "array([[1.0000000e+00, 1.0000000e+00, 1.0000000e+00],\n",
       "       [2.0010000e+00, 4.0010000e+00, 2.0100000e-01],\n",
       "       [3.0030010e+00, 3.2024008e+01, 3.0301000e-02]])"
      ]
     },
     "execution_count": 10,
     "metadata": {},
     "output_type": "execute_result"
    }
   ],
   "source": [
    "def examplefunc(x, y, z):\n",
    "    return np.array([x+y+z, x**2 + y**2 + z**2, x**3 + y**4 + z**3])\n",
    "\n",
    "derivatives(examplefunc, [1, 2, 0.1])\n",
    "\n",
    "#string - fixed function\n",
    "#column - fixed variable"
   ]
  },
  {
   "cell_type": "markdown",
   "id": "3559bebd-4e3d-46a7-a041-c4858608bbcd",
   "metadata": {
    "tags": []
   },
   "source": [
    "# Стрельба при выборе начального условия $p_1(0)$ по сетке - нет решений"
   ]
  },
  {
   "cell_type": "code",
   "execution_count": 11,
   "id": "eddebc0d-0143-4d13-959f-bb6c2c64fd9b",
   "metadata": {},
   "outputs": [],
   "source": [
    "def checksol(p10, p20, boundary_conditions=boundary_conditions[0], T=20, start = 0, end = -1,\n",
    "            steplength_plot=0, u_plot = 0, p_plot = 0, x_plot = 1, phase_plot=1, save = \"\"):\n",
    "    x10, x20 = boundary_conditions[0]\n",
    "    y0 = np.array([x10, x20, p10, p20])\n",
    "    t_grid, ans, us, hs = solve(y0, T, T_steps = 10000)\n",
    "    ans_grid = np.array(ans).T[0:2]\n",
    "    ans_grid_normalized = ans_grid - ans_grid.mean(axis=1).reshape(-1,1)\n",
    "    \n",
    "    \n",
    "    Xc = X_alternative(boundary_conditions, ans, us)\n",
    "    print(\"Данные невязки , невязка, правый конец решения):\")\n",
    "    print(f\"Модуль невязки: {np.linalg.norm(Xc[0])}\")\n",
    "    print(f\"Вектор невязки: {Xc[0]}\")\n",
    "    print(f\"Правый конец решения: {ans[Xc[1]]}\")\n",
    "    \n",
    "    if end == -1:\n",
    "        end = Xc[1]\n",
    "    \n",
    "    if phase_plot:\n",
    "        print(\"Plase plot of x1, x2\")\n",
    "        plt.plot(boundary_conditions[0][0], boundary_conditions[0][1], 'ro')\n",
    "        plt.plot(boundary_conditions[1][0], boundary_conditions[1][1], 'ro')\n",
    "        plt.plot(ans_grid[0][start:end], ans_grid[1][start:end])\n",
    "        arrow = [ans_grid[0][np.round(Xc[1]/2, 0)], ans_grid[1][np.round(Xc[1]/2, 0)]]\n",
    "        plt.arrow(arrow[0][0], arrow[0][1], \n",
    "                  arrow[1][0]-arrow[0][0], arrow[1][1] - arrow[0][1], \n",
    "                  shape='full', lw=0, length_includes_head=True, head_width=.2)\n",
    "        plt.axis([-1, 15, -1, 15])\n",
    "        plt.show()\n",
    "        \n",
    "    \n",
    "    if x_plot:\n",
    "        print(\"Plot of x1, x2\")\n",
    "        plt.plot(t_grid[start:end], ans_grid.T[start:end])\n",
    "        plt.show()\n",
    "    \n",
    "    #plt.plot(t_grid, ans_grid_normalized.T)\n",
    "    #plt.show()\n",
    "    \n",
    "    if p_plot:\n",
    "        print(\"Plot of p1, p2\")\n",
    "        plt.plot(t_grid, np.array(ans).T[2:].T)\n",
    "        plt.show()\n",
    "    \n",
    "    if u_plot:\n",
    "        print(\"Plot of u:\")\n",
    "        plt.plot(np.array(us)[start:end])\n",
    "        plt.show()\n",
    "\n",
    "        \n",
    "    if steplength_plot:\n",
    "        print(\"Plot of step length:\")\n",
    "        plt.plot(hs[start:end])\n",
    "        plt.show()\n",
    "        \n",
    "    if len(save) > 0:\n",
    "        with open(save, 'w') as X__:\n",
    "            X__.write(f\"p10: {p10} \\n p20: {p20}\")\n",
    "            X__.write(f\"boundary_conditions: {boundary_conditions}\")\n",
    "            X__.write(f\"time: {t_grid[0:Xc[1]+1]}\")\n",
    "            X__.write(f\"trajectory: {ans[0:Xc[1]+1]}\")\n",
    "        "
   ]
  },
  {
   "cell_type": "code",
   "execution_count": 11,
   "id": "0b8043b4-637b-4638-9785-d1868b139352",
   "metadata": {},
   "outputs": [],
   "source": [
    "a = 1\n",
    "b = 0.5"
   ]
  },
  {
   "cell_type": "code",
   "execution_count": 12,
   "id": "17120b8d-517f-4066-ab82-15d9e41e2f9f",
   "metadata": {},
   "outputs": [
    {
     "name": "stdout",
     "output_type": "stream",
     "text": [
      "2 1.0\n",
      "Данные невязки , невязка, правый конец решения):\n",
      "Модуль невязки: 5.131412669730114\n",
      "Вектор невязки: [ 1.71544327 -0.18178471  4.83276367]\n",
      "Правый конец решения: [ 2.84556734e-01  2.68178471e+00 -5.69559013e+12  6.04343264e+11]\n",
      "Plase plot of x1, x2\n"
     ]
    },
    {
     "data": {
      "image/png": "[encoded data removed]",
      "text/plain": [
       "<Figure size 432x288 with 1 Axes>"
      ]
     },
     "metadata": {
      "needs_background": "light"
     },
     "output_type": "display_data"
    },
    {
     "name": "stdout",
     "output_type": "stream",
     "text": [
      "Plot of x1, x2\n"
     ]
    },
    {
     "data": {
      "image/png": "[encoded data removed]",
      "text/plain": [
       "<Figure size 432x288 with 1 Axes>"
      ]
     },
     "metadata": {
      "needs_background": "light"
     },
     "output_type": "display_data"
    }
   ],
   "source": [
    "a*=2\n",
    "b*=2\n",
    "print(a, b)\n",
    "checksol(p10=a, p20=b, T=100)"
   ]
  },
  {
   "cell_type": "code",
   "execution_count": 14,
   "id": "55072c84-8d88-4d34-8ea7-1991b8ef7e32",
   "metadata": {},
   "outputs": [
    {
     "data": {
      "application/vnd.jupyter.widget-view+json": {
       "model_id": "f5e352b14257454192ad4a93487a35a1",
       "version_major": 2,
       "version_minor": 0
      },
      "text/plain": [
       "  0%|          | 0/40 [00:00<?, ?it/s]"
      ]
     },
     "metadata": {},
     "output_type": "display_data"
    },
    {
     "data": {
      "image/png": "[encoded data removed]",
      "text/plain": [
       "<Figure size 432x288 with 1 Axes>"
      ]
     },
     "metadata": {
      "needs_background": "light"
     },
     "output_type": "display_data"
    }
   ],
   "source": [
    "#run throught p10:\n",
    "\n",
    "X_arr3 = []\n",
    "p20 = -1\n",
    "cur_range = np.arange(-2, 2, 0.1)\n",
    "T=15\n",
    "for p10 in tqdm(cur_range):\n",
    "    x10, x20 = boundary_conditions[0][0]\n",
    "    y0 = np.array([x10, x20, p10, p20])\n",
    "    t_grid, ans, us, hs = solve(y0, T, T_steps = 10000)\n",
    "    ans_grid = np.array(ans).T[0:2]\n",
    "    ans_grid_normalized = ans_grid - ans_grid.mean(axis=1).reshape(-1,1)\n",
    "    \n",
    "    Xc = X_alternative(boundary_conditions[0], ans, us)\n",
    "    \n",
    "    X_arr3.append(np.linalg.norm(Xc[0][:2]))\n",
    "    \n",
    "plt.plot(cur_range, X_arr3)\n",
    "\n",
    "with open('X_4.txt', 'w') as X__:\n",
    "    X__.write(\"p1 = np.arange(-2, 2, 0.01), p2 = -1 \\n\")\n",
    "    X__.write(f\"{X_arr3}\")"
   ]
  },
  {
   "cell_type": "markdown",
   "id": "c72f6772-391d-4855-957e-a602f25e50d4",
   "metadata": {
    "tags": []
   },
   "source": [
    "# Аналитическое решение"
   ]
  },
  {
   "cell_type": "markdown",
   "id": "0dcd22df-9204-4f88-9d5f-d9cc75893559",
   "metadata": {
    "tags": []
   },
   "source": [
    "## u = 1"
   ]
  },
  {
   "cell_type": "markdown",
   "id": "138e1fcd-a6e5-4ce6-92f0-cfc00bc770e1",
   "metadata": {},
   "source": [
    "Пусть $u = 1$:\n",
    "\\begin{matrix}\n",
    "\\dot{x_1}  &=& \\frac{1}{3} x_1 + \\frac{x_2}{6}, \\\\ \n",
    "\\dot{x_2} &=& \\frac{2x_1}{3} - \\frac{x_2}{6} \\\\\n",
    "\\end{matrix}\n",
    "Решения:\n",
    "\n",
    "\\begin{align}\n",
    "    \\begin{pmatrix}\n",
    "        x_1 \\\\\n",
    "        x_2\n",
    "    \\end{pmatrix}\n",
    "        &= C_1 \\exp{\\left(-\\frac{1}{3}t \\right)}\n",
    "    \\begin{pmatrix}\n",
    "        1 \\\\\n",
    "        4 \\\\\n",
    "    \\end{pmatrix}\n",
    "        + C_2 \\exp{\\left(\\frac{1}{2}t \\right)}\n",
    "    \\begin{pmatrix}\n",
    "        1 \\\\\n",
    "        1 \\\\\n",
    "    \\end{pmatrix}\n",
    "\\end{align}"
   ]
  },
  {
   "cell_type": "code",
   "execution_count": 15,
   "id": "1de9e243-a5fc-44e8-96c1-ba1550e74cf6",
   "metadata": {},
   "outputs": [],
   "source": [
    "def Sol_1(t, c_1, c_2):\n",
    "    return c_1 * np.exp(-1/3 * t) * np.array([1, 4]) + c_2 * np.exp(1/2 * t) * np.array([1,1])"
   ]
  },
  {
   "cell_type": "code",
   "execution_count": 16,
   "id": "95fe972e-4451-4a23-9684-24f355328d78",
   "metadata": {},
   "outputs": [],
   "source": [
    "consts = [[0  ,  0.166667, 1.83333], [   1  ,  0.232602, 1.11197], [   2  ,  0.324622, 0.674446], [   3  ,  0.453047, 0.409072], [   4  ,  0.632278, 0.248115], [   5  ,  0.882415, 0.150489], [   6  ,  1.23151, 0.0912763], [   7  ,  1.71871, 0.0553619], [   8  ,  2.39865, 0.0335787], [   9  ,  3.34759, 0.0203665], [   10  ,  4.67194, 0.0123529], [   11  ,  6.52021, 0.00749241], [   12  ,  9.09969, 0.00454438], [   13  ,  12.6996, 0.00275631], [   14  ,  17.7238, 0.00167178], [   15  ,  24.7355, 0.00101399], [   16  ,  34.5212, 0.000615015], [   17  ,  48.1782, 0.000373025], [   18  ,  67.2381, 0.000226251], [   19  ,  93.8384, 0.000137228], [   20  ,  130.962, 0.0000832332], [   21  ,  182.772, 0.0000504835], [   22  ,  255.079, 0.0000306198], [   23  ,  355.992, 0.0000185718], [   24  ,  496.826, 0.0000112644], [   25  ,  693.377, 6.8322*10** -6], [   26  ,  967.686, 4.14394*10** -6], [   27  ,  1350.51, 2.51342*10** -6], [  31   ,  5123.4, 3.40155*10**-7 ], [   32   ,  7150.28, 2.06314*10**-7 ], [   33   ,  9979.02, 1.25136*10**-7 ], [   34   ,  13926.8, 7.58989*10**-8 ], [   35   ,  19436.5, 4.6035*10**-8 ], [   36   ,  27125.8, 2.79216*10**-8 ], [   37   ,  37857.1, 1.69353*10**-8 ], [   38   ,  52833.8, 1.02718*10**-8 ], [   39   ,  73735.6, 6.23016*10**-9 ], [   40   ,  102906., 3.77878*10**-9 ], [   41   ,  143617., 2.29195*10**-9 ], [   42   ,  200434., 1.39014*10**-9 ], [   43   ,  279728., 8.4316*10**-10 ]]"
   ]
  },
  {
   "cell_type": "code",
   "execution_count": 17,
   "id": "bc96f9f8-32a6-4813-9abc-b5dc81b8adbb",
   "metadata": {},
   "outputs": [],
   "source": [
    "#Далее таблица значений констант, таких что в t решение проходит через [2, 2.5]\n",
    "#t, C_1, C_2\n",
    "#consts"
   ]
  },
  {
   "cell_type": "code",
   "execution_count": 18,
   "id": "17dc0a8f-4c21-48ab-ac5d-1eef09585714",
   "metadata": {},
   "outputs": [
    {
     "data": {
      "text/plain": [
       "array([1.999997, 2.499998])"
      ]
     },
     "execution_count": 18,
     "metadata": {},
     "output_type": "execute_result"
    }
   ],
   "source": [
    "Sol_1(0, consts[0][1], consts[0][2])"
   ]
  },
  {
   "cell_type": "markdown",
   "id": "adcb62dc-b63a-4e07-933b-4365684003a2",
   "metadata": {},
   "source": [
    "Несложно показать, что выбор разных C_1, C_2 здесть - перепараметризация. "
   ]
  },
  {
   "cell_type": "code",
   "execution_count": 19,
   "id": "f00b47c7-a9c9-4a8e-b6e7-c907368fa56f",
   "metadata": {
    "tags": []
   },
   "outputs": [
    {
     "data": {
      "image/png": "[encoded data removed]",
      "text/plain": [
       "<Figure size 720x720 with 1 Axes>"
      ]
     },
     "metadata": {
      "needs_background": "light"
     },
     "output_type": "display_data"
    }
   ],
   "source": [
    "import random\n",
    "lines = 10\n",
    "l = random.sample(consts, lines)\n",
    "\n",
    "\n",
    "plt.figure(figsize=(10,10))\n",
    "plt.plot(boundary_conditions[0][0][0], boundary_conditions[0][0][1], 'ro')\n",
    "plt.plot(boundary_conditions[0][1][0], boundary_conditions[0][1][1], 'ro')\n",
    "\n",
    "points = []\n",
    "for t in np.arange(-10, consts[0][0]+10, 0.1):\n",
    "    points.append(Sol_1(t, consts[0][1], consts[0][2]))\n",
    "#PP.append(np.array(points[-50:]))\n",
    "#print(np.array(points))\n",
    "plt.plot(np.array(points).T[0], np.array(points).T[1])\n",
    "\n",
    "\n",
    "for t in np.arange(-10, consts[0][0]+10, 1):\n",
    "    arrow = [Sol_1(t, consts[0][1], consts[0][2]), Sol_1(t+0.0001, consts[0][1], consts[0][2])]\n",
    "    plt.arrow(arrow[0][0], arrow[0][1], \n",
    "              arrow[1][0]-arrow[0][0], arrow[1][1] - arrow[0][1], \n",
    "              shape='full', lw=0, length_includes_head=True, head_width=.2)\n",
    "\n",
    "plt.axis([-1, 15, -1, 15])\n",
    "plt.show()"
   ]
  },
  {
   "cell_type": "markdown",
   "id": "c264d587-4cfa-4495-ac06-474883ffb80a",
   "metadata": {
    "tags": []
   },
   "source": [
    "## u = -1"
   ]
  },
  {
   "cell_type": "markdown",
   "id": "fcd17544-51a5-4adf-aaa3-b8139cc2d5c4",
   "metadata": {},
   "source": [
    "Пусть $u = -1$:\n",
    "\\begin{matrix}\n",
    "\\dot{x_1}  &=& -\\frac{5}{3} x_1 + \\frac{x_2}{6}, \\\\ \n",
    "\\dot{x_2} &=& \\frac{2x_1}{3} - \\frac{x_2}{6} \\\\\n",
    "\\end{matrix}\n",
    "Решения:\n",
    "\n",
    "$$\n",
    "x(t) = \\frac{1}{194} e^{-\\frac{1}{12} \\left(\\sqrt{97}+11\\right) t} \\left(\\left(\\left(97-9 \\sqrt{97}\\right) c_1 + 2 \\sqrt{97} c_2 \\right) e^{\\frac{\\sqrt{97} t}{6}}+\\left(9 \\sqrt{97}+97\\right) c_1 -2 \\sqrt{97} c_2 \\right), \\\\\n",
    "y(t) = \\frac{1}{194} e^{-\\frac{1}{12} \\left(\\sqrt{97}+11\\right) t} \\left(\\left(8 \\sqrt{97} c_1+\\left(9 \\sqrt{97}+97\\right) c_2 \\right) e^{\\frac{\\sqrt{97} t}{6}}-8 \\sqrt{97} c_1+\\left(97-9 \\sqrt{97}\\right) c_2\\right)\n",
    "$$\n"
   ]
  },
  {
   "cell_type": "markdown",
   "id": "f2b64f71-dea4-4d1b-a89d-ec963b97b612",
   "metadata": {},
   "source": [
    "\\begin{align}\n",
    "    \\begin{pmatrix}\n",
    "        x_1 \\\\\n",
    "        x_2\n",
    "    \\end{pmatrix}\n",
    "        &= \\frac{1}{194} e^{-\\frac{1}{12} \\left( \\sqrt{97}+11 \\right)t} \n",
    "        \\left(\n",
    "            \\left[\n",
    "                \\begin{pmatrix}\n",
    "                    (97 - 9\\sqrt{97}) \\\\\n",
    "                    8\\sqrt{97} \\\\\n",
    "                \\end{pmatrix} C_1\n",
    "                    + \n",
    "                \\begin{pmatrix}\n",
    "                    2 \\sqrt{97} \\\\\n",
    "                    (97 + 9\\sqrt{97}) \\\\\n",
    "                \\end{pmatrix} C_2\n",
    "            \\right] e^{\\frac{\\sqrt{97}t}{6}} +\n",
    "            \\left[\n",
    "                \\begin{pmatrix}\n",
    "                    (97 + 9\\sqrt{97}) \\\\\n",
    "                    -8\\sqrt{97} \\\\\n",
    "                \\end{pmatrix} C_1\n",
    "                +\n",
    "                \\begin{pmatrix}\n",
    "                    - 2 \\sqrt{97} \\\\\n",
    "                    (97 - 9\\sqrt{97}) \\\\\n",
    "                \\end{pmatrix} C_2\n",
    "            \\right]\n",
    "        \\right)\n",
    "\\end{align}"
   ]
  },
  {
   "cell_type": "code",
   "execution_count": 1,
   "id": "5565891d-6813-4897-8a6d-a0e9c9316802",
   "metadata": {},
   "outputs": [],
   "source": [
    "def Sol_2(t, c1, c2):\n",
    "    A = np.array([97-9*np.array(97), 8*np.sqrt(97)])\n",
    "    B = np.array([2*np.sqrt(97), 97+9*np.array(97)])\n",
    "    C = np.array([97+9*np.array(97), -8*np.sqrt(97)])\n",
    "    D = np.array([-2*np.sqrt(97), 97-9*np.array(97)])\n",
    "    return 1/194 * np.exp(-1/12*(np.sqrt(97)+11)*t) * ((A*c1 + B*c2)*np.exp(np.sqrt(97)*t/6) + C*c1 + D*c2)"
   ]
  },
  {
   "cell_type": "code",
   "execution_count": 21,
   "id": "48ee3aab-929a-4612-8bb4-0f8e00bbb2bb",
   "metadata": {},
   "outputs": [],
   "source": [
    "consts2 = [[0,2.,2.5], \n",
    "[1,9.80719,-0.476435],\n",
    "[2,54.0153,-18.8685],\n",
    "[3,305.059,-125.01],\n",
    "[4,1731.44,-729.959],\n",
    "[5,9836.77,-4169.6],\n",
    "[6,55895.7,-23717.8],\n",
    "[7,317629.,-134804.],\n",
    "[8,1.80495*10**6,-766064.],\n",
    "[9,1.02567*10**7,-4.35325*10**6],\n",
    "[10,5.82847*10**7,-2.47377*10**7],\n",
    "[11,3.31207*10**8,-1.40574*10**8],\n",
    "[12,1.88211*10**9,-7.98823*10**8]]"
   ]
  },
  {
   "cell_type": "code",
   "execution_count": 128,
   "id": "0f86039e-b4c2-4b6c-a26e-49041a0295f0",
   "metadata": {},
   "outputs": [
    {
     "data": {
      "application/vnd.jupyter.widget-view+json": {
       "model_id": "8e63774337614647971b0512f05b7d10",
       "version_major": 2,
       "version_minor": 0
      },
      "text/plain": [
       "  0%|          | 0/40 [00:00<?, ?it/s]"
      ]
     },
     "metadata": {},
     "output_type": "display_data"
    }
   ],
   "source": [
    "consts2 = []\n",
    "for i in tqdm(np.arange(0.1, 0.5, 0.01)):\n",
    "    loss = lambda c1, c2: Sol_2(i, c1, c2) - boundary_conditions[0][1]\n",
    "    sol = newtonian_finder(loss, [2, 2], silent=1, steps=100, Jac_recount=1, dim=2, d=1e-8)\n",
    "    consts2.append([i, sol[0], sol[1]])"
   ]
  },
  {
   "cell_type": "code",
   "execution_count": 112,
   "id": "6f5a45c5-e394-400f-8694-20c9ad861a75",
   "metadata": {},
   "outputs": [],
   "source": [
    "#consts2"
   ]
  },
  {
   "cell_type": "code",
   "execution_count": 113,
   "id": "e8bf09d0-1cbc-404c-a23c-3c2918f72836",
   "metadata": {},
   "outputs": [
    {
     "data": {
      "text/plain": [
       "array([-1.9108964 , -2.64759441])"
      ]
     },
     "execution_count": 113,
     "metadata": {},
     "output_type": "execute_result"
    }
   ],
   "source": [
    "loss(consts2[1][1], consts2[1][2])"
   ]
  },
  {
   "cell_type": "code",
   "execution_count": null,
   "id": "2c293c49-4e6f-4245-8596-85d610caeb61",
   "metadata": {},
   "outputs": [],
   "source": [
    "newtonian_finder(loss, [2, 2.5], silent=0, steps=100, Jac_recount=1, dim=2, d=1e-8)"
   ]
  },
  {
   "cell_type": "code",
   "execution_count": 129,
   "id": "3bdb6b86-90ca-4d0c-b9f0-d9cd9ee31d8f",
   "metadata": {},
   "outputs": [
    {
     "data": {
      "image/png": "[encoded data removed]",
      "text/plain": [
       "<Figure size 720x720 with 1 Axes>"
      ]
     },
     "metadata": {
      "needs_background": "light"
     },
     "output_type": "display_data"
    }
   ],
   "source": [
    "plt.figure(figsize=(10,10))\n",
    "\n",
    "\n",
    "points = []\n",
    "for i in range(len(consts2)):\n",
    "    for t in np.arange(0, consts2[i][0]+5, 0.1):\n",
    "        points.append(Sol_2(t, consts2[i][1], consts2[i][2]))\n",
    "    #print(np.array(points))\n",
    "    plt.plot(np.array(points).T[0], np.array(points).T[1])\n",
    "\n",
    "\n",
    "    for t in np.arange(0, consts2[i][0]+5, 1):\n",
    "        arrow = [Sol_2(t, consts2[i][1], consts2[i][2]), Sol_2(t+0.0001, consts2[i][1], consts2[i][2])]\n",
    "        plt.arrow(arrow[0][0], arrow[0][1], \n",
    "                  arrow[1][0]-arrow[0][0], arrow[1][1] - arrow[0][1], \n",
    "                  shape='full', lw=0, length_includes_head=True, head_width=.2)\n",
    "\n",
    "plt.plot(boundary_conditions[0][0][0], boundary_conditions[0][0][1], 'ro')\n",
    "plt.plot(boundary_conditions[0][1][0], boundary_conditions[0][1][1], 'ro')\n",
    "plt.axis([-10, 20, -10, 20])\n",
    "plt.show()"
   ]
  },
  {
   "cell_type": "markdown",
   "id": "7eed7bfb-efaa-4078-855d-93a9727cce24",
   "metadata": {
    "jp-MarkdownHeadingCollapsed": true,
    "tags": []
   },
   "source": [
    "# Построение фазовых портретов boundary_conditions"
   ]
  },
  {
   "cell_type": "code",
   "execution_count": 30,
   "id": "1d9862b2-17d8-408d-a3e0-0d59ea91ed64",
   "metadata": {},
   "outputs": [],
   "source": [
    "portrait = []"
   ]
  },
  {
   "cell_type": "code",
   "execution_count": 136,
   "id": "ecd75b07-0176-4e7a-adde-a92e6b303f53",
   "metadata": {},
   "outputs": [],
   "source": [
    "import random\n",
    "#portrait = 0\n",
    "def random_strike_portrait(boundary_conditions = boundary_conditions[0], lines = 50, generate=0):\n",
    "    global portrait\n",
    "    #run throught p10:    \n",
    "    T = 15\n",
    "    if generate or len(portrait) == 0:\n",
    "        portrait = []\n",
    "        for p10 in tqdm(np.arange(-1, -0.42, 0.005)):\n",
    "            x10, x20 = boundary_conditions[0]\n",
    "            y0 = np.array([x10, x20, p10, p20])\n",
    "            t_grid, ans, us, hs = solve(y0, T, T_steps = 1000)\n",
    "            ans_grid = np.array(ans).T[0:2]\n",
    "\n",
    "            portrait.append(ans_grid)\n",
    "\n",
    "    \n",
    "    l = random.sample(portrait, lines)\n",
    "    \n",
    "    plt.figure(figsize=(10,8))\n",
    "    \n",
    "    plt.plot(boundary_conditions[0][0], boundary_conditions[0][1], 'ro')\n",
    "    for line in l:\n",
    "        plt.plot(line[0], line[1])\n",
    "    plt.plot(boundary_conditions[1][0], boundary_conditions[1][1], 'ro')\n",
    "    plt.axis([-1, 15, -1, 15])\n",
    "    plt.show()"
   ]
  },
  {
   "cell_type": "code",
   "execution_count": 32,
   "id": "3f4d3935-c0cf-4f08-aa87-c3d0976edff8",
   "metadata": {},
   "outputs": [
    {
     "data": {
      "text/plain": [
       "-0.42415"
      ]
     },
     "execution_count": 32,
     "metadata": {},
     "output_type": "execute_result"
    }
   ],
   "source": [
    "-0.4243 + 300*0.0000005"
   ]
  },
  {
   "cell_type": "code",
   "execution_count": 33,
   "id": "03dcd3aa-c933-4b82-8085-6daee0fd0729",
   "metadata": {},
   "outputs": [
    {
     "ename": "IndexError",
     "evalue": "list index out of range",
     "output_type": "error",
     "traceback": [
      "\u001b[1;31m---------------------------------------------------------------------------\u001b[0m",
      "\u001b[1;31mIndexError\u001b[0m                                Traceback (most recent call last)",
      "\u001b[1;32m~\\AppData\\Local\\Temp/ipykernel_22248/1250124664.py\u001b[0m in \u001b[0;36m<module>\u001b[1;34m\u001b[0m\n\u001b[0;32m      1\u001b[0m \u001b[0mnum\u001b[0m \u001b[1;33m=\u001b[0m \u001b[1;36m500\u001b[0m\u001b[1;33m\u001b[0m\u001b[1;33m\u001b[0m\u001b[0m\n\u001b[1;32m----> 2\u001b[1;33m \u001b[0mplt\u001b[0m\u001b[1;33m.\u001b[0m\u001b[0mplot\u001b[0m\u001b[1;33m(\u001b[0m\u001b[0mportrait\u001b[0m\u001b[1;33m[\u001b[0m\u001b[0mnum\u001b[0m\u001b[1;33m]\u001b[0m\u001b[1;33m[\u001b[0m\u001b[1;36m0\u001b[0m\u001b[1;33m]\u001b[0m\u001b[1;33m,\u001b[0m \u001b[0mportrait\u001b[0m\u001b[1;33m[\u001b[0m\u001b[0mnum\u001b[0m\u001b[1;33m]\u001b[0m\u001b[1;33m[\u001b[0m\u001b[1;36m1\u001b[0m\u001b[1;33m]\u001b[0m\u001b[1;33m)\u001b[0m\u001b[1;33m\u001b[0m\u001b[1;33m\u001b[0m\u001b[0m\n\u001b[0m\u001b[0;32m      3\u001b[0m \u001b[0mplt\u001b[0m\u001b[1;33m.\u001b[0m\u001b[0maxis\u001b[0m\u001b[1;33m(\u001b[0m\u001b[1;33m[\u001b[0m\u001b[1;33m-\u001b[0m\u001b[1;36m1\u001b[0m\u001b[1;33m,\u001b[0m \u001b[1;36m15\u001b[0m\u001b[1;33m,\u001b[0m \u001b[1;33m-\u001b[0m\u001b[1;36m1\u001b[0m\u001b[1;33m,\u001b[0m \u001b[1;36m15\u001b[0m\u001b[1;33m]\u001b[0m\u001b[1;33m)\u001b[0m\u001b[1;33m\u001b[0m\u001b[1;33m\u001b[0m\u001b[0m\n\u001b[0;32m      4\u001b[0m \u001b[0mplt\u001b[0m\u001b[1;33m.\u001b[0m\u001b[0mplot\u001b[0m\u001b[1;33m(\u001b[0m\u001b[0mboundary_conditions\u001b[0m\u001b[1;33m[\u001b[0m\u001b[1;36m0\u001b[0m\u001b[1;33m]\u001b[0m\u001b[1;33m[\u001b[0m\u001b[1;36m1\u001b[0m\u001b[1;33m]\u001b[0m\u001b[1;33m[\u001b[0m\u001b[1;36m0\u001b[0m\u001b[1;33m]\u001b[0m\u001b[1;33m,\u001b[0m \u001b[0mboundary_conditions\u001b[0m\u001b[1;33m[\u001b[0m\u001b[1;36m0\u001b[0m\u001b[1;33m]\u001b[0m\u001b[1;33m[\u001b[0m\u001b[1;36m1\u001b[0m\u001b[1;33m]\u001b[0m\u001b[1;33m[\u001b[0m\u001b[1;36m1\u001b[0m\u001b[1;33m]\u001b[0m\u001b[1;33m,\u001b[0m \u001b[1;34m'ro'\u001b[0m\u001b[1;33m)\u001b[0m\u001b[1;33m\u001b[0m\u001b[1;33m\u001b[0m\u001b[0m\n",
      "\u001b[1;31mIndexError\u001b[0m: list index out of range"
     ]
    }
   ],
   "source": [
    "num = 500\n",
    "plt.plot(portrait[num][0], portrait[num][1])\n",
    "plt.axis([-1, 15, -1, 15])\n",
    "plt.plot(boundary_conditions[0][1][0], boundary_conditions[0][1][1], 'ro')"
   ]
  },
  {
   "cell_type": "code",
   "execution_count": 137,
   "id": "78f02ae8-f052-4299-b768-b081bfe56996",
   "metadata": {},
   "outputs": [
    {
     "data": {
      "application/vnd.jupyter.widget-view+json": {
       "model_id": "daa13b7fcef74496876f1e9988346086",
       "version_major": 2,
       "version_minor": 0
      },
      "text/plain": [
       "  0%|          | 0/117 [00:00<?, ?it/s]"
      ]
     },
     "metadata": {},
     "output_type": "display_data"
    },
    {
     "data": {
      "image/png": "[encoded data removed]",
      "text/plain": [
       "<Figure size 720x576 with 1 Axes>"
      ]
     },
     "metadata": {
      "needs_background": "light"
     },
     "output_type": "display_data"
    }
   ],
   "source": [
    "random_strike_portrait(boundary_conditions[0], generate=1, lines = 50)"
   ]
  },
  {
   "cell_type": "code",
   "execution_count": 37,
   "id": "44578ffe-4468-41cc-bcb2-41f6a089232e",
   "metadata": {},
   "outputs": [
    {
     "ename": "ValueError",
     "evalue": "operands could not be broadcast together with shapes (2,10000) (4,1) ",
     "output_type": "error",
     "traceback": [
      "\u001b[1;31m---------------------------------------------------------------------------\u001b[0m",
      "\u001b[1;31mValueError\u001b[0m                                Traceback (most recent call last)",
      "\u001b[1;32m~\\AppData\\Local\\Temp/ipykernel_22248/981187649.py\u001b[0m in \u001b[0;36m<module>\u001b[1;34m\u001b[0m\n\u001b[1;32m----> 1\u001b[1;33m \u001b[0mX_alternative\u001b[0m\u001b[1;33m(\u001b[0m\u001b[0mboundary_conditions\u001b[0m\u001b[1;33m,\u001b[0m \u001b[0mans\u001b[0m\u001b[1;33m,\u001b[0m \u001b[0mus\u001b[0m\u001b[1;33m)\u001b[0m\u001b[1;33m\u001b[0m\u001b[1;33m\u001b[0m\u001b[0m\n\u001b[0m",
      "\u001b[1;32m~\\AppData\\Local\\Temp/ipykernel_22248/1554734204.py\u001b[0m in \u001b[0;36mX_alternative\u001b[1;34m(boundary_conditions, ans, us)\u001b[0m\n\u001b[0;32m      1\u001b[0m \u001b[1;32mdef\u001b[0m \u001b[0mX_alternative\u001b[0m\u001b[1;33m(\u001b[0m\u001b[0mboundary_conditions\u001b[0m\u001b[1;33m,\u001b[0m \u001b[0mans\u001b[0m\u001b[1;33m,\u001b[0m \u001b[0mus\u001b[0m\u001b[1;33m)\u001b[0m\u001b[1;33m:\u001b[0m\u001b[1;33m\u001b[0m\u001b[1;33m\u001b[0m\u001b[0m\n\u001b[0;32m      2\u001b[0m     \u001b[0mans_grid\u001b[0m \u001b[1;33m=\u001b[0m \u001b[0mnp\u001b[0m\u001b[1;33m.\u001b[0m\u001b[0marray\u001b[0m\u001b[1;33m(\u001b[0m\u001b[0mans\u001b[0m\u001b[1;33m)\u001b[0m\u001b[1;33m.\u001b[0m\u001b[0mT\u001b[0m\u001b[1;33m[\u001b[0m\u001b[1;36m0\u001b[0m\u001b[1;33m:\u001b[0m\u001b[1;36m2\u001b[0m\u001b[1;33m]\u001b[0m\u001b[1;33m\u001b[0m\u001b[1;33m\u001b[0m\u001b[0m\n\u001b[1;32m----> 3\u001b[1;33m     \u001b[0mopt_id\u001b[0m \u001b[1;33m=\u001b[0m \u001b[0mnp\u001b[0m\u001b[1;33m.\u001b[0m\u001b[0margmin\u001b[0m\u001b[1;33m(\u001b[0m\u001b[0mnp\u001b[0m\u001b[1;33m.\u001b[0m\u001b[0mlinalg\u001b[0m\u001b[1;33m.\u001b[0m\u001b[0mnorm\u001b[0m\u001b[1;33m(\u001b[0m\u001b[1;33m(\u001b[0m\u001b[0mans_grid\u001b[0m \u001b[1;33m-\u001b[0m \u001b[0mnp\u001b[0m\u001b[1;33m.\u001b[0m\u001b[0marray\u001b[0m\u001b[1;33m(\u001b[0m\u001b[0mboundary_conditions\u001b[0m\u001b[1;33m[\u001b[0m\u001b[1;36m1\u001b[0m\u001b[1;33m]\u001b[0m\u001b[1;33m)\u001b[0m\u001b[1;33m.\u001b[0m\u001b[0mreshape\u001b[0m\u001b[1;33m(\u001b[0m\u001b[1;33m-\u001b[0m\u001b[1;36m1\u001b[0m\u001b[1;33m,\u001b[0m\u001b[1;36m1\u001b[0m\u001b[1;33m)\u001b[0m\u001b[1;33m)\u001b[0m\u001b[1;33m.\u001b[0m\u001b[0mT\u001b[0m\u001b[1;33m,\u001b[0m \u001b[0maxis\u001b[0m\u001b[1;33m=\u001b[0m\u001b[1;36m1\u001b[0m\u001b[1;33m)\u001b[0m\u001b[1;33m)\u001b[0m\u001b[1;33m\u001b[0m\u001b[1;33m\u001b[0m\u001b[0m\n\u001b[0m\u001b[0;32m      4\u001b[0m \u001b[1;33m\u001b[0m\u001b[0m\n\u001b[0;32m      5\u001b[0m     \u001b[1;31m#print(ans_grid)\u001b[0m\u001b[1;33m\u001b[0m\u001b[1;33m\u001b[0m\u001b[1;33m\u001b[0m\u001b[0m\n",
      "\u001b[1;31mValueError\u001b[0m: operands could not be broadcast together with shapes (2,10000) (4,1) "
     ]
    }
   ],
   "source": [
    "X_alternative(boundary_conditions, ans, us)"
   ]
  },
  {
   "cell_type": "code",
   "execution_count": 38,
   "id": "87c1b9fd-2f41-46a3-aee4-48b9c60be18d",
   "metadata": {},
   "outputs": [
    {
     "data": {
      "application/vnd.jupyter.widget-view+json": {
       "model_id": "f46313033e724e61a61ba3ae6fc92028",
       "version_major": 2,
       "version_minor": 0
      },
      "text/plain": [
       "  0%|          | 0/401 [00:00<?, ?it/s]"
      ]
     },
     "metadata": {},
     "output_type": "display_data"
    }
   ],
   "source": [
    "#run throught p10:\n",
    "\n",
    "X_arr2 = []\n",
    "\n",
    "for p10 in tqdm(np.arange(-0.425, -0.423, 0.000005)):\n",
    "    x10, x20 = boundary_conditions[0][0]\n",
    "    y0 = np.array([x10, x20, p10, p20])\n",
    "    t_grid, ans, us, hs = solve(y0, T, T_steps = 1000)\n",
    "    ans_grid = np.array(ans).T[0:2]\n",
    "    ans_grid_normalized = ans_grid - ans_grid.mean(axis=1).reshape(-1,1)\n",
    "    \n",
    "    Xc = X_alternative(boundary_conditions[0], ans, us)\n",
    "    \n",
    "    X_arr2.append(np.linalg.norm(Xc[0][:2]))"
   ]
  },
  {
   "cell_type": "code",
   "execution_count": 39,
   "id": "9aa2934f-394c-4ad5-b508-ac7afeaa25fd",
   "metadata": {},
   "outputs": [
    {
     "data": {
      "text/plain": [
       "-1"
      ]
     },
     "execution_count": 39,
     "metadata": {},
     "output_type": "execute_result"
    }
   ],
   "source": [
    "p20"
   ]
  },
  {
   "cell_type": "code",
   "execution_count": 40,
   "id": "398b0b6f-6442-4af8-acec-ac743f1774f1",
   "metadata": {},
   "outputs": [
    {
     "data": {
      "text/plain": [
       "[<matplotlib.lines.Line2D at 0x287b8047f88>]"
      ]
     },
     "execution_count": 40,
     "metadata": {},
     "output_type": "execute_result"
    },
    {
     "data": {
      "image/png": "[encoded data removed]",
      "text/plain": [
       "<Figure size 720x576 with 1 Axes>"
      ]
     },
     "metadata": {
      "needs_background": "light"
     },
     "output_type": "display_data"
    }
   ],
   "source": [
    "plt.figure(figsize=(10,8))\n",
    "plt.plot(np.arange(-0.425, -0.423, 0.000005), X_arr2)"
   ]
  },
  {
   "cell_type": "code",
   "execution_count": 41,
   "id": "6eb781d6-b6d0-400e-b010-2dab01e3a219",
   "metadata": {},
   "outputs": [
    {
     "name": "stdout",
     "output_type": "stream",
     "text": [
      "Данные невязки , невязка, правый конец решения):\n",
      "Модуль невязки: 0.6145517802196848\n",
      "Вектор невязки: [ 0.07806866 -0.09711581  0.60178708]\n",
      "Правый конец решения: [ 1.92193134  2.59711581  5.94921312 -6.81805016]\n",
      "Plase plot of x1, x2\n"
     ]
    },
    {
     "data": {
      "image/png": "[encoded data removed]",
      "text/plain": [
       "<Figure size 432x288 with 1 Axes>"
      ]
     },
     "metadata": {
      "needs_background": "light"
     },
     "output_type": "display_data"
    },
    {
     "name": "stdout",
     "output_type": "stream",
     "text": [
      "Plot of x1, x2\n"
     ]
    },
    {
     "data": {
      "image/png": "[encoded data removed]",
      "text/plain": [
       "<Figure size 432x288 with 1 Axes>"
      ]
     },
     "metadata": {
      "needs_background": "light"
     },
     "output_type": "display_data"
    }
   ],
   "source": [
    "checksol(p10=-0.4244289, p20=-1, T=15)"
   ]
  },
  {
   "cell_type": "code",
   "execution_count": 100,
   "id": "c474eb75-4966-428c-a774-0f79740463e7",
   "metadata": {},
   "outputs": [
    {
     "data": {
      "application/vnd.jupyter.widget-view+json": {
       "model_id": "c8fd73ce0aff406e91fba7d76ae14d06",
       "version_major": 2,
       "version_minor": 0
      },
      "text/plain": [
       "  0%|          | 0/881 [00:00<?, ?it/s]"
      ]
     },
     "metadata": {},
     "output_type": "display_data"
    }
   ],
   "source": [
    "#run throught p10:\n",
    "\n",
    "X_arr2 = []\n",
    "\n",
    "for p10 in tqdm(np.arange(-0.42442890088, -0.4244289, 1e-12)):\n",
    "    x10, x20 = boundary_conditions[0][0]\n",
    "    y0 = np.array([x10, x20, p10, p20])\n",
    "    t_grid, ans, us, hs = solve(y0, T, T_steps = 1000)\n",
    "    ans_grid = np.array(ans).T[0:2]\n",
    "    ans_grid_normalized = ans_grid - ans_grid.mean(axis=1).reshape(-1,1)\n",
    "    \n",
    "    Xc = X_alternative(boundary_conditions[0], ans, us)\n",
    "    \n",
    "    X_arr2.append(Xc[0][1])"
   ]
  },
  {
   "cell_type": "code",
   "execution_count": 101,
   "id": "46840072-f7c3-4f6d-8263-1438b3d5c039",
   "metadata": {},
   "outputs": [
    {
     "data": {
      "text/plain": [
       "[<matplotlib.lines.Line2D at 0x287b81a4d48>]"
      ]
     },
     "execution_count": 101,
     "metadata": {},
     "output_type": "execute_result"
    },
    {
     "data": {
      "image/png": "[encoded data removed]",
      "text/plain": [
       "<Figure size 720x576 with 1 Axes>"
      ]
     },
     "metadata": {
      "needs_background": "light"
     },
     "output_type": "display_data"
    }
   ],
   "source": [
    "plt.figure(figsize=(10,8))\n",
    "plt.plot(np.arange(-0.42442890088, -0.4244289, 1e-12), X_arr2)"
   ]
  },
  {
   "cell_type": "code",
   "execution_count": 107,
   "id": "d355d6b0-2bf4-43b9-90be-6f83d777b338",
   "metadata": {},
   "outputs": [
    {
     "data": {
      "application/vnd.jupyter.widget-view+json": {
       "model_id": "4ffaba07089d44859f49ac18f00d6718",
       "version_major": 2,
       "version_minor": 0
      },
      "text/plain": [
       "  0%|          | 0/2001 [00:00<?, ?it/s]"
      ]
     },
     "metadata": {},
     "output_type": "display_data"
    }
   ],
   "source": [
    "#run throught p10:\n",
    "\n",
    "X_arr2 = []\n",
    "\n",
    "for p10 in tqdm(np.arange(-0.424428900852285, -0.424428900852275, 1e-15)):\n",
    "    x10, x20 = boundary_conditions[0][0]\n",
    "    y0 = np.array([x10, x20, p10, p20])\n",
    "    t_grid, ans, us, hs = solve(y0, T, T_steps = 1000)\n",
    "    ans_grid = np.array(ans).T[0:2]\n",
    "    ans_grid_normalized = ans_grid - ans_grid.mean(axis=1).reshape(-1,1)\n",
    "    \n",
    "    Xc = X_alternative(boundary_conditions[0], ans, us)\n",
    "    \n",
    "    X_arr2.append(Xc[0][1])"
   ]
  },
  {
   "cell_type": "code",
   "execution_count": 108,
   "id": "56596a51-bd86-444e-b9f4-f52d4b8132ae",
   "metadata": {},
   "outputs": [
    {
     "data": {
      "text/plain": [
       "[<matplotlib.lines.Line2D at 0x287b6bb5448>]"
      ]
     },
     "execution_count": 108,
     "metadata": {},
     "output_type": "execute_result"
    },
    {
     "data": {
      "image/png": "[encoded data removed]",
      "text/plain": [
       "<Figure size 720x576 with 1 Axes>"
      ]
     },
     "metadata": {
      "needs_background": "light"
     },
     "output_type": "display_data"
    }
   ],
   "source": [
    "plt.figure(figsize=(10,8))\n",
    "plt.plot(np.arange(-0.424428900848, -0.424428900846, 1e-15), X_arr2)"
   ]
  },
  {
   "cell_type": "code",
   "execution_count": null,
   "id": "cb4faba6-9501-404f-a433-4b77f6a38b5e",
   "metadata": {},
   "outputs": [],
   "source": [
    " -0.424428900852279"
   ]
  },
  {
   "cell_type": "markdown",
   "id": "1f480d1b-8970-46f0-ae32-d857b3b1672f",
   "metadata": {
    "tags": []
   },
   "source": [
    "# Метод Ньютона"
   ]
  },
  {
   "cell_type": "code",
   "execution_count": 54,
   "id": "2cc74c09-523a-42a8-883d-2c6c2b8e9ca2",
   "metadata": {},
   "outputs": [],
   "source": [
    "def LOSS(p10, p20=-1, T=20, boundary_conditions=boundary_conditions[0]):\n",
    "    x10, x20 = boundary_conditions[0]\n",
    "    y0 = np.array([x10, x20, p10, p20])\n",
    "    t_grid, ans, us, hs = solve(y0, T, T_steps = 10000)\n",
    "    ans_grid = np.array(ans).T[0:2]\n",
    "    ans_grid_normalized = ans_grid - ans_grid.mean(axis=1).reshape(-1,1)\n",
    "    \n",
    "    #print(boundary_conditions, ans[-1], us[-1])\n",
    "    Xc = X_alternative(boundary_conditions, ans, us)\n",
    "    return(Xc[0][0])"
   ]
  },
  {
   "cell_type": "code",
   "execution_count": 26,
   "id": "7274c165-14f9-4150-93d0-5b354101b674",
   "metadata": {},
   "outputs": [],
   "source": [
    "A = [-0.4244289]"
   ]
  },
  {
   "cell_type": "code",
   "execution_count": 27,
   "id": "886bd072-68ea-436d-99c5-9869c767e1df",
   "metadata": {},
   "outputs": [],
   "source": [
    "A = [-0.41825601]"
   ]
  },
  {
   "cell_type": "code",
   "execution_count": null,
   "id": "a4911ddb-cdbe-4303-a5b2-57ef7c78406e",
   "metadata": {},
   "outputs": [],
   "source": []
  },
  {
   "cell_type": "code",
   "execution_count": 59,
   "id": "ae9e42e3-8e63-44e6-bcdf-aaffa85474a6",
   "metadata": {},
   "outputs": [
    {
     "data": {
      "text/plain": [
       "0.07699491451169793"
      ]
     },
     "execution_count": 59,
     "metadata": {},
     "output_type": "execute_result"
    }
   ],
   "source": [
    "LOSS(-0.4244289)"
   ]
  },
  {
   "cell_type": "code",
   "execution_count": null,
   "id": "b75c0734-a377-4251-95f6-a40ab4d5761e",
   "metadata": {},
   "outputs": [],
   "source": []
  },
  {
   "cell_type": "code",
   "execution_count": 58,
   "id": "dec1ff46-f2cd-4581-b79f-09b118c1e373",
   "metadata": {},
   "outputs": [],
   "source": [
    "def newtomian1d(func, p0, silent=1, steps=50, Jac_recount=1, d=1e-5): # поиск начальных условий методом Ньютона \n",
    "    dim = 1\n",
    "    \n",
    "    p = np.copy(p0)\n",
    "    f_val = func(*p)\n",
    "    print(p)\n",
    "    print(f_val)\n",
    "    for k in tqdm(range(steps), disable=silent):\n",
    "        Jac_f = derivatives(func, p, dim, d)\n",
    "        J_f_inv = 1/(Jac_f[0][0])\n",
    "        \n",
    "        alpha = 0.0000001\n",
    "        while (alpha > 1e-12):\n",
    "            p_new = p - alpha * np.dot(J_f_inv, f_val)\n",
    "            f_val_new = func(*p_new)\n",
    "            if (np.linalg.norm(f_val_new) <= np.linalg.norm(f_val)) and derivatives(func, p_new, dim, d)[0][0] != 0 :\n",
    "                p = p_new\n",
    "                f_val = f_val_new\n",
    "                if not silent:\n",
    "                    print(f\" Step {k}, point {p}: {np.linalg.norm(f_val)}\")\n",
    "                break\n",
    "            else: \n",
    "                alpha /= 2\n",
    "                if not silent:\n",
    "                    print(f\" Step {k}, alpha changed {alpha} (was point {p_new}: {np.linalg.norm(f_val_new)})\")\n",
    "        \n",
    "        \n",
    "        if (alpha < 1e-12):\n",
    "            print (\"terminated\")\n",
    "            break\n",
    "            \n",
    "        if np.linalg.norm(f_val) < 1e-10:\n",
    "            break\n",
    "       \n",
    "    return p"
   ]
  },
  {
   "cell_type": "code",
   "execution_count": 86,
   "id": "d9fe4f87-30b6-48c5-af6d-067419a54e6e",
   "metadata": {},
   "outputs": [],
   "source": [
    "def idiot_optimizer(func, p0, alpha=1e-10, silent=0, steps=50):\n",
    "    p = np.copy(p0)\n",
    "    f_val = func(*p)\n",
    "    for k in tqdm(range(steps), disable=silent):\n",
    "        f1 = func(*p+alpha)\n",
    "        f2 = func(*p-alpha)\n",
    "        while (np.abs(f1) >= np.abs(f_val) and np.abs(f2) >= np.abs(f_val)):\n",
    "            if alpha < 1e-15:\n",
    "                return p\n",
    "            alpha /= 2\n",
    "            print(f\" Step {k}, alpha changed {alpha}\")\n",
    "            f1 = func(*p+alpha)\n",
    "            f2 = func(*p-alpha)\n",
    "        if np.abs(f1) < np.abs(f_val):\n",
    "            f_val, p = f1, p+alpha\n",
    "            print(f\" Step {k}, point {p}: {f_val}\")\n",
    "        else:\n",
    "            f_val, p = f2, p-alpha\n",
    "            print(f\" Step {k}, point {p}: {f_val}\")\n",
    "        if np.abs(f_val) < 1e-12:\n",
    "            break\n",
    "    return p"
   ]
  },
  {
   "cell_type": "raw",
   "id": "7ac863e3-3772-4bae-89e0-632917b17c47",
   "metadata": {},
   "source": []
  },
  {
   "cell_type": "code",
   "execution_count": 87,
   "id": "154cda43-2f30-4c15-813b-f3bc1ccb79fe",
   "metadata": {},
   "outputs": [
    {
     "data": {
      "application/vnd.jupyter.widget-view+json": {
       "model_id": "a6bf48a8212043dea709037ed47f6fc1",
       "version_major": 2,
       "version_minor": 0
      },
      "text/plain": [
       "  0%|          | 0/100 [00:00<?, ?it/s]"
      ]
     },
     "metadata": {},
     "output_type": "display_data"
    },
    {
     "name": "stdout",
     "output_type": "stream",
     "text": [
      " Step 0, point [-0.4244289]: 0.07308675628931605\n",
      " Step 1, point [-0.4244289]: 0.07098119375808998\n",
      " Step 2, point [-0.4244289]: 0.06479293797048458\n",
      " Step 3, point [-0.4244289]: 0.05969494152416277\n",
      " Step 4, point [-0.4244289]: 0.055010170502521216\n",
      " Step 5, point [-0.4244289]: 0.04705520875338709\n",
      " Step 6, point [-0.4244289]: 0.03564129426941798\n",
      " Step 7, point [-0.4244289]: 0.0173837336253857\n",
      " Step 8, alpha changed 5e-11\n",
      " Step 8, point [-0.4244289]: 0.0008187462757898167\n",
      " Step 9, alpha changed 2.5e-11\n",
      " Step 9, alpha changed 1.25e-11\n",
      " Step 9, alpha changed 6.25e-12\n",
      " Step 9, alpha changed 3.125e-12\n",
      " Step 9, alpha changed 1.5625e-12\n",
      " Step 9, point [-0.4244289]: 0.00034939100186059946\n",
      " Step 10, alpha changed 7.8125e-13\n",
      " Step 10, point [-0.4244289]: 0.00016531399007502223\n",
      " Step 11, alpha changed 3.90625e-13\n",
      " Step 11, alpha changed 1.953125e-13\n",
      " Step 11, alpha changed 9.765625e-14\n",
      " Step 11, point [-0.4244289]: -8.583322288746587e-05\n",
      " Step 12, alpha changed 4.8828125e-14\n",
      " Step 12, point [-0.4244289]: 4.0751469955857544e-05\n",
      " Step 13, alpha changed 2.44140625e-14\n",
      " Step 13, point [-0.4244289]: -2.1549949962729187e-05\n",
      " Step 14, alpha changed 1.220703125e-14\n",
      " Step 14, point [-0.4244289]: 9.390120849550598e-06\n",
      " Step 15, alpha changed 6.103515625e-15\n",
      " Step 15, point [-0.4244289]: -6.186291930276866e-06\n",
      " Step 16, alpha changed 3.0517578125e-15\n",
      " Step 16, point [-0.4244289]: 2.0795297557274495e-06\n",
      " Step 17, alpha changed 1.52587890625e-15\n",
      " Step 17, point [-0.4244289]: -1.5710697600646029e-06\n",
      " Step 18, alpha changed 7.62939453125e-16\n",
      " Step 18, point [-0.4244289]: -5.901229460647528e-08\n"
     ]
    }
   ],
   "source": [
    "ans = idiot_optimizer(LOSS, [-0.4244289], silent=0, steps=100)"
   ]
  },
  {
   "cell_type": "code",
   "execution_count": 98,
   "id": "38072143-ec18-43f7-b1b2-ff5248b8ceaa",
   "metadata": {},
   "outputs": [
    {
     "data": {
      "text/plain": [
       "-0.424428900852279"
      ]
     },
     "execution_count": 98,
     "metadata": {},
     "output_type": "execute_result"
    }
   ],
   "source": [
    "ans[0]"
   ]
  },
  {
   "cell_type": "code",
   "execution_count": 97,
   "id": "70d665c1-728c-4f49-9720-bb3f9afdc4e3",
   "metadata": {},
   "outputs": [
    {
     "name": "stdout",
     "output_type": "stream",
     "text": [
      "Данные невязки , невязка, правый конец решения):\n",
      "Модуль невязки: 0.6017896033225504\n",
      "Вектор невязки: [-1.73458060e-03  1.47593925e-04  6.01787085e-01]\n",
      "Правый конец решения: [ 2.00173458  2.49985241  8.32574858 -9.17623196]\n",
      "Plase plot of x1, x2\n"
     ]
    },
    {
     "data": {
      "image/png": "[encoded data removed]",
      "text/plain": [
       "<Figure size 432x288 with 1 Axes>"
      ]
     },
     "metadata": {
      "needs_background": "light"
     },
     "output_type": "display_data"
    },
    {
     "name": "stdout",
     "output_type": "stream",
     "text": [
      "Plot of x1, x2\n"
     ]
    },
    {
     "data": {
      "image/png": "[encoded data removed]",
      "text/plain": [
       "<Figure size 432x288 with 1 Axes>"
      ]
     },
     "metadata": {
      "needs_background": "light"
     },
     "output_type": "display_data"
    }
   ],
   "source": [
    "checksol(ans[0], -1, T=18)"
   ]
  },
  {
   "cell_type": "code",
   "execution_count": 64,
   "id": "e12f83db-3d47-4cb2-8ba2-eac42817eb55",
   "metadata": {},
   "outputs": [
    {
     "name": "stdout",
     "output_type": "stream",
     "text": [
      "[-0.4244289]\n",
      "0.07699491451169793\n"
     ]
    },
    {
     "data": {
      "application/vnd.jupyter.widget-view+json": {
       "model_id": "a068b6f154b74b98bcc27a4750bbe56c",
       "version_major": 2,
       "version_minor": 0
      },
      "text/plain": [
       "  0%|          | 0/100 [00:00<?, ?it/s]"
      ]
     },
     "metadata": {},
     "output_type": "display_data"
    },
    {
     "name": "stdout",
     "output_type": "stream",
     "text": [
      " Step 0, point [-0.4244289]: 0.07699491028948557\n"
     ]
    },
    {
     "ename": "KeyboardInterrupt",
     "evalue": "",
     "output_type": "error",
     "traceback": [
      "\u001b[1;31m---------------------------------------------------------------------------\u001b[0m",
      "\u001b[1;31mKeyboardInterrupt\u001b[0m                         Traceback (most recent call last)",
      "\u001b[1;32m~\\AppData\\Local\\Temp/ipykernel_22248/4271625962.py\u001b[0m in \u001b[0;36m<module>\u001b[1;34m\u001b[0m\n\u001b[1;32m----> 1\u001b[1;33m \u001b[0mnewtomian1d\u001b[0m\u001b[1;33m(\u001b[0m\u001b[0mLOSS\u001b[0m\u001b[1;33m,\u001b[0m \u001b[1;33m[\u001b[0m\u001b[1;33m-\u001b[0m\u001b[1;36m0.4244289\u001b[0m\u001b[1;33m]\u001b[0m\u001b[1;33m,\u001b[0m \u001b[0msilent\u001b[0m\u001b[1;33m=\u001b[0m\u001b[1;36m0\u001b[0m\u001b[1;33m,\u001b[0m \u001b[0msteps\u001b[0m\u001b[1;33m=\u001b[0m\u001b[1;36m100\u001b[0m\u001b[1;33m,\u001b[0m \u001b[0mJac_recount\u001b[0m\u001b[1;33m=\u001b[0m\u001b[1;36m20\u001b[0m\u001b[1;33m,\u001b[0m \u001b[0md\u001b[0m\u001b[1;33m=\u001b[0m\u001b[1;36m1e-15\u001b[0m\u001b[1;33m)\u001b[0m\u001b[1;33m\u001b[0m\u001b[1;33m\u001b[0m\u001b[0m\n\u001b[0m",
      "\u001b[1;32m~\\AppData\\Local\\Temp/ipykernel_22248/4232045498.py\u001b[0m in \u001b[0;36mnewtomian1d\u001b[1;34m(func, p0, silent, steps, Jac_recount, d)\u001b[0m\n\u001b[0;32m      7\u001b[0m     \u001b[0mprint\u001b[0m\u001b[1;33m(\u001b[0m\u001b[0mf_val\u001b[0m\u001b[1;33m)\u001b[0m\u001b[1;33m\u001b[0m\u001b[1;33m\u001b[0m\u001b[0m\n\u001b[0;32m      8\u001b[0m     \u001b[1;32mfor\u001b[0m \u001b[0mk\u001b[0m \u001b[1;32min\u001b[0m \u001b[0mtqdm\u001b[0m\u001b[1;33m(\u001b[0m\u001b[0mrange\u001b[0m\u001b[1;33m(\u001b[0m\u001b[0msteps\u001b[0m\u001b[1;33m)\u001b[0m\u001b[1;33m,\u001b[0m \u001b[0mdisable\u001b[0m\u001b[1;33m=\u001b[0m\u001b[0msilent\u001b[0m\u001b[1;33m)\u001b[0m\u001b[1;33m:\u001b[0m\u001b[1;33m\u001b[0m\u001b[1;33m\u001b[0m\u001b[0m\n\u001b[1;32m----> 9\u001b[1;33m         \u001b[0mJac_f\u001b[0m \u001b[1;33m=\u001b[0m \u001b[0mderivatives\u001b[0m\u001b[1;33m(\u001b[0m\u001b[0mfunc\u001b[0m\u001b[1;33m,\u001b[0m \u001b[0mp\u001b[0m\u001b[1;33m,\u001b[0m \u001b[0mdim\u001b[0m\u001b[1;33m,\u001b[0m \u001b[0md\u001b[0m\u001b[1;33m)\u001b[0m\u001b[1;33m\u001b[0m\u001b[1;33m\u001b[0m\u001b[0m\n\u001b[0m\u001b[0;32m     10\u001b[0m         \u001b[0mJ_f_inv\u001b[0m \u001b[1;33m=\u001b[0m \u001b[1;36m1\u001b[0m\u001b[1;33m/\u001b[0m\u001b[1;33m(\u001b[0m\u001b[0mJac_f\u001b[0m\u001b[1;33m[\u001b[0m\u001b[1;36m0\u001b[0m\u001b[1;33m]\u001b[0m\u001b[1;33m[\u001b[0m\u001b[1;36m0\u001b[0m\u001b[1;33m]\u001b[0m\u001b[1;33m)\u001b[0m\u001b[1;33m\u001b[0m\u001b[1;33m\u001b[0m\u001b[0m\n\u001b[0;32m     11\u001b[0m \u001b[1;33m\u001b[0m\u001b[0m\n",
      "\u001b[1;32m~\\AppData\\Local\\Temp/ipykernel_22248/397842031.py\u001b[0m in \u001b[0;36mderivatives\u001b[1;34m(func, p, dim, d)\u001b[0m\n\u001b[0;32m      4\u001b[0m     \u001b[0mzero\u001b[0m \u001b[1;33m=\u001b[0m \u001b[0mnp\u001b[0m\u001b[1;33m.\u001b[0m\u001b[0marray\u001b[0m\u001b[1;33m(\u001b[0m\u001b[1;33m[\u001b[0m\u001b[1;36m0.0\u001b[0m\u001b[1;33m]\u001b[0m\u001b[1;33m*\u001b[0m\u001b[0mdim\u001b[0m\u001b[1;33m)\u001b[0m\u001b[1;33m\u001b[0m\u001b[1;33m\u001b[0m\u001b[0m\n\u001b[0;32m      5\u001b[0m     \u001b[0md_vect\u001b[0m \u001b[1;33m=\u001b[0m \u001b[1;33m[\u001b[0m\u001b[0mzero\u001b[0m\u001b[1;33m]\u001b[0m\u001b[1;33m\u001b[0m\u001b[1;33m\u001b[0m\u001b[0m\n\u001b[1;32m----> 6\u001b[1;33m     \u001b[0mfunction_values\u001b[0m \u001b[1;33m=\u001b[0m \u001b[1;33m[\u001b[0m\u001b[0mfunc\u001b[0m\u001b[1;33m(\u001b[0m\u001b[1;33m*\u001b[0m\u001b[0mp\u001b[0m\u001b[1;33m)\u001b[0m\u001b[1;33m]\u001b[0m\u001b[1;33m\u001b[0m\u001b[1;33m\u001b[0m\u001b[0m\n\u001b[0m\u001b[0;32m      7\u001b[0m     \u001b[0mJac\u001b[0m \u001b[1;33m=\u001b[0m \u001b[1;33m[\u001b[0m\u001b[1;33m]\u001b[0m\u001b[1;33m\u001b[0m\u001b[1;33m\u001b[0m\u001b[0m\n\u001b[0;32m      8\u001b[0m     \u001b[1;32mfor\u001b[0m \u001b[0mi\u001b[0m \u001b[1;32min\u001b[0m \u001b[0mrange\u001b[0m\u001b[1;33m(\u001b[0m\u001b[0mdim\u001b[0m\u001b[1;33m)\u001b[0m\u001b[1;33m:\u001b[0m\u001b[1;33m\u001b[0m\u001b[1;33m\u001b[0m\u001b[0m\n",
      "\u001b[1;32m~\\AppData\\Local\\Temp/ipykernel_22248/1306254580.py\u001b[0m in \u001b[0;36mLOSS\u001b[1;34m(p10, p20, T, boundary_conditions)\u001b[0m\n\u001b[0;32m      2\u001b[0m     \u001b[0mx10\u001b[0m\u001b[1;33m,\u001b[0m \u001b[0mx20\u001b[0m \u001b[1;33m=\u001b[0m \u001b[0mboundary_conditions\u001b[0m\u001b[1;33m[\u001b[0m\u001b[1;36m0\u001b[0m\u001b[1;33m]\u001b[0m\u001b[1;33m\u001b[0m\u001b[1;33m\u001b[0m\u001b[0m\n\u001b[0;32m      3\u001b[0m     \u001b[0my0\u001b[0m \u001b[1;33m=\u001b[0m \u001b[0mnp\u001b[0m\u001b[1;33m.\u001b[0m\u001b[0marray\u001b[0m\u001b[1;33m(\u001b[0m\u001b[1;33m[\u001b[0m\u001b[0mx10\u001b[0m\u001b[1;33m,\u001b[0m \u001b[0mx20\u001b[0m\u001b[1;33m,\u001b[0m \u001b[0mp10\u001b[0m\u001b[1;33m,\u001b[0m \u001b[0mp20\u001b[0m\u001b[1;33m]\u001b[0m\u001b[1;33m)\u001b[0m\u001b[1;33m\u001b[0m\u001b[1;33m\u001b[0m\u001b[0m\n\u001b[1;32m----> 4\u001b[1;33m     \u001b[0mt_grid\u001b[0m\u001b[1;33m,\u001b[0m \u001b[0mans\u001b[0m\u001b[1;33m,\u001b[0m \u001b[0mus\u001b[0m\u001b[1;33m,\u001b[0m \u001b[0mhs\u001b[0m \u001b[1;33m=\u001b[0m \u001b[0msolve\u001b[0m\u001b[1;33m(\u001b[0m\u001b[0my0\u001b[0m\u001b[1;33m,\u001b[0m \u001b[0mT\u001b[0m\u001b[1;33m,\u001b[0m \u001b[0mT_steps\u001b[0m \u001b[1;33m=\u001b[0m \u001b[1;36m10000\u001b[0m\u001b[1;33m)\u001b[0m\u001b[1;33m\u001b[0m\u001b[1;33m\u001b[0m\u001b[0m\n\u001b[0m\u001b[0;32m      5\u001b[0m     \u001b[0mans_grid\u001b[0m \u001b[1;33m=\u001b[0m \u001b[0mnp\u001b[0m\u001b[1;33m.\u001b[0m\u001b[0marray\u001b[0m\u001b[1;33m(\u001b[0m\u001b[0mans\u001b[0m\u001b[1;33m)\u001b[0m\u001b[1;33m.\u001b[0m\u001b[0mT\u001b[0m\u001b[1;33m[\u001b[0m\u001b[1;36m0\u001b[0m\u001b[1;33m:\u001b[0m\u001b[1;36m2\u001b[0m\u001b[1;33m]\u001b[0m\u001b[1;33m\u001b[0m\u001b[1;33m\u001b[0m\u001b[0m\n\u001b[0;32m      6\u001b[0m     \u001b[0mans_grid_normalized\u001b[0m \u001b[1;33m=\u001b[0m \u001b[0mans_grid\u001b[0m \u001b[1;33m-\u001b[0m \u001b[0mans_grid\u001b[0m\u001b[1;33m.\u001b[0m\u001b[0mmean\u001b[0m\u001b[1;33m(\u001b[0m\u001b[0maxis\u001b[0m\u001b[1;33m=\u001b[0m\u001b[1;36m1\u001b[0m\u001b[1;33m)\u001b[0m\u001b[1;33m.\u001b[0m\u001b[0mreshape\u001b[0m\u001b[1;33m(\u001b[0m\u001b[1;33m-\u001b[0m\u001b[1;36m1\u001b[0m\u001b[1;33m,\u001b[0m\u001b[1;36m1\u001b[0m\u001b[1;33m)\u001b[0m\u001b[1;33m\u001b[0m\u001b[1;33m\u001b[0m\u001b[0m\n",
      "\u001b[1;32m~\\AppData\\Local\\Temp/ipykernel_22248/1973223532.py\u001b[0m in \u001b[0;36msolve\u001b[1;34m(y0, T, h_eps, T_steps)\u001b[0m\n\u001b[0;32m     19\u001b[0m \u001b[1;33m\u001b[0m\u001b[0m\n\u001b[0;32m     20\u001b[0m         \u001b[0mu_last\u001b[0m \u001b[1;33m=\u001b[0m \u001b[0mu_next\u001b[0m\u001b[1;33m\u001b[0m\u001b[1;33m\u001b[0m\u001b[0m\n\u001b[1;32m---> 21\u001b[1;33m         \u001b[0my_new\u001b[0m \u001b[1;33m=\u001b[0m \u001b[0mphi\u001b[0m\u001b[1;33m(\u001b[0m\u001b[0mt\u001b[0m\u001b[1;33m,\u001b[0m \u001b[0mans_grid\u001b[0m\u001b[1;33m[\u001b[0m\u001b[1;33m-\u001b[0m\u001b[1;36m1\u001b[0m\u001b[1;33m]\u001b[0m\u001b[1;33m,\u001b[0m \u001b[0mh\u001b[0m\u001b[1;33m)\u001b[0m\u001b[1;33m\u001b[0m\u001b[1;33m\u001b[0m\u001b[0m\n\u001b[0m\u001b[0;32m     22\u001b[0m         \u001b[0mu_next\u001b[0m \u001b[1;33m=\u001b[0m \u001b[0mu\u001b[0m\u001b[1;33m(\u001b[0m\u001b[0my_new\u001b[0m\u001b[1;33m[\u001b[0m\u001b[1;36m0\u001b[0m\u001b[1;33m]\u001b[0m\u001b[1;33m,\u001b[0m \u001b[0my_new\u001b[0m\u001b[1;33m[\u001b[0m\u001b[1;36m2\u001b[0m\u001b[1;33m]\u001b[0m\u001b[1;33m)\u001b[0m\u001b[1;33m\u001b[0m\u001b[1;33m\u001b[0m\u001b[0m\n\u001b[0;32m     23\u001b[0m \u001b[1;33m\u001b[0m\u001b[0m\n",
      "\u001b[1;32m~\\AppData\\Local\\Temp/ipykernel_22248/2552409055.py\u001b[0m in \u001b[0;36mphi\u001b[1;34m(t, y, h)\u001b[0m\n\u001b[0;32m      3\u001b[0m     \u001b[1;31m#print(t, y)\u001b[0m\u001b[1;33m\u001b[0m\u001b[1;33m\u001b[0m\u001b[1;33m\u001b[0m\u001b[0m\n\u001b[0;32m      4\u001b[0m     \u001b[0mk1\u001b[0m \u001b[1;33m=\u001b[0m \u001b[0mf\u001b[0m\u001b[1;33m(\u001b[0m\u001b[0mt\u001b[0m\u001b[1;33m,\u001b[0m \u001b[0my\u001b[0m\u001b[1;33m)\u001b[0m\u001b[1;33m\u001b[0m\u001b[1;33m\u001b[0m\u001b[0m\n\u001b[1;32m----> 5\u001b[1;33m     \u001b[0mk2\u001b[0m \u001b[1;33m=\u001b[0m \u001b[0mf\u001b[0m\u001b[1;33m(\u001b[0m\u001b[0mt\u001b[0m \u001b[1;33m+\u001b[0m \u001b[0mh\u001b[0m\u001b[1;33m/\u001b[0m\u001b[1;36m2\u001b[0m\u001b[1;33m,\u001b[0m \u001b[0my\u001b[0m \u001b[1;33m+\u001b[0m \u001b[0mh\u001b[0m\u001b[1;33m/\u001b[0m\u001b[1;36m2\u001b[0m\u001b[1;33m*\u001b[0m\u001b[0mk1\u001b[0m\u001b[1;33m)\u001b[0m\u001b[1;33m\u001b[0m\u001b[1;33m\u001b[0m\u001b[0m\n\u001b[0m\u001b[0;32m      6\u001b[0m     \u001b[0mk3\u001b[0m \u001b[1;33m=\u001b[0m \u001b[0mf\u001b[0m\u001b[1;33m(\u001b[0m\u001b[0mt\u001b[0m \u001b[1;33m+\u001b[0m \u001b[0mh\u001b[0m\u001b[1;33m/\u001b[0m\u001b[1;36m2\u001b[0m\u001b[1;33m,\u001b[0m \u001b[0my\u001b[0m \u001b[1;33m+\u001b[0m \u001b[0mh\u001b[0m\u001b[1;33m/\u001b[0m\u001b[1;36m2\u001b[0m\u001b[1;33m*\u001b[0m\u001b[0mk2\u001b[0m\u001b[1;33m)\u001b[0m\u001b[1;33m\u001b[0m\u001b[1;33m\u001b[0m\u001b[0m\n\u001b[0;32m      7\u001b[0m     \u001b[0mk4\u001b[0m \u001b[1;33m=\u001b[0m \u001b[0mf\u001b[0m\u001b[1;33m(\u001b[0m\u001b[0mt\u001b[0m \u001b[1;33m+\u001b[0m \u001b[0mh\u001b[0m\u001b[1;33m,\u001b[0m \u001b[0my\u001b[0m \u001b[1;33m+\u001b[0m \u001b[0mh\u001b[0m\u001b[1;33m*\u001b[0m\u001b[0mk3\u001b[0m\u001b[1;33m)\u001b[0m\u001b[1;33m\u001b[0m\u001b[1;33m\u001b[0m\u001b[0m\n",
      "\u001b[1;32m~\\AppData\\Local\\Temp/ipykernel_22248/786429819.py\u001b[0m in \u001b[0;36mf\u001b[1;34m(t, y)\u001b[0m\n\u001b[0;32m     14\u001b[0m     \u001b[0mpp1\u001b[0m \u001b[1;33m=\u001b[0m \u001b[1;33m-\u001b[0m\u001b[0mp1\u001b[0m\u001b[1;33m*\u001b[0m\u001b[0mu_\u001b[0m \u001b[1;33m+\u001b[0m \u001b[1;36m2\u001b[0m\u001b[1;33m/\u001b[0m\u001b[1;36m3\u001b[0m\u001b[1;33m*\u001b[0m\u001b[1;33m(\u001b[0m\u001b[0mp1\u001b[0m \u001b[1;33m-\u001b[0m \u001b[0mp2\u001b[0m\u001b[1;33m)\u001b[0m\u001b[1;33m\u001b[0m\u001b[1;33m\u001b[0m\u001b[0m\n\u001b[0;32m     15\u001b[0m     \u001b[0mpp2\u001b[0m \u001b[1;33m=\u001b[0m \u001b[1;33m-\u001b[0m\u001b[1;36m1\u001b[0m\u001b[1;33m/\u001b[0m\u001b[1;36m6\u001b[0m\u001b[1;33m*\u001b[0m\u001b[1;33m(\u001b[0m\u001b[0mp1\u001b[0m \u001b[1;33m-\u001b[0m \u001b[0mp2\u001b[0m\u001b[1;33m)\u001b[0m\u001b[1;33m\u001b[0m\u001b[1;33m\u001b[0m\u001b[0m\n\u001b[1;32m---> 16\u001b[1;33m     \u001b[1;32mreturn\u001b[0m \u001b[0mnp\u001b[0m\u001b[1;33m.\u001b[0m\u001b[0marray\u001b[0m\u001b[1;33m(\u001b[0m\u001b[1;33m[\u001b[0m\u001b[0mxx1\u001b[0m\u001b[1;33m,\u001b[0m \u001b[0mxx2\u001b[0m\u001b[1;33m,\u001b[0m \u001b[0mpp1\u001b[0m\u001b[1;33m,\u001b[0m \u001b[0mpp2\u001b[0m\u001b[1;33m]\u001b[0m\u001b[1;33m)\u001b[0m\u001b[1;33m\u001b[0m\u001b[1;33m\u001b[0m\u001b[0m\n\u001b[0m\u001b[0;32m     17\u001b[0m \u001b[1;33m\u001b[0m\u001b[0m\n",
      "\u001b[1;31mKeyboardInterrupt\u001b[0m: "
     ]
    }
   ],
   "source": [
    "newtomian1d(LOSS, [-0.4244289], silent=0, steps=100, Jac_recount=20, d=1e-15)"
   ]
  },
  {
   "cell_type": "code",
   "execution_count": null,
   "id": "59c244f0-62d1-4b56-8662-2b2baa9da13a",
   "metadata": {},
   "outputs": [],
   "source": [
    "LOSS(-0.49099271, -1.15683148)"
   ]
  },
  {
   "cell_type": "code",
   "execution_count": null,
   "id": "423792bf-3900-43cc-b334-24e4d60fcd33",
   "metadata": {},
   "outputs": [],
   "source": [
    "LOSS(-0.49099271/1.15683148, -1)"
   ]
  },
  {
   "cell_type": "code",
   "execution_count": null,
   "id": "362ff62e-ed54-47bd-8b0f-10077a7bf614",
   "metadata": {},
   "outputs": [],
   "source": [
    "checksol(p10=-0.49099271/1.15683148, p20=-1, T=15)"
   ]
  },
  {
   "cell_type": "code",
   "execution_count": null,
   "id": "71947833-d2cf-4ff9-96fb-13edb4efaefb",
   "metadata": {},
   "outputs": [],
   "source": []
  }
 ],
 "metadata": {
  "kernelspec": {
   "display_name": "Python 3 (ipykernel)",
   "language": "python",
   "name": "python3"
  },
  "language_info": {
   "codemirror_mode": {
    "name": "ipython",
    "version": 3
   },
   "file_extension": ".py",
   "mimetype": "text/x-python",
   "name": "python",
   "nbconvert_exporter": "python",
   "pygments_lexer": "ipython3",
   "version": "3.7.4"
  }
 },
 "nbformat": 4,
 "nbformat_minor": 5
}
