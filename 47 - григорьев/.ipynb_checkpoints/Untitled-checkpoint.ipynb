{
 "cells": [
  {
   "cell_type": "code",
   "execution_count": 1,
   "id": "8448d4ba-021a-4b2d-bfb2-82d21753ecc8",
   "metadata": {},
   "outputs": [],
   "source": [
    "## Попытки решить одну из задач в олимпиаде Тинькофа по математике\n",
    "\n",
    "\n",
    "c = []\n",
    "c.append({(5,), (6,), (7,)})"
   ]
  },
  {
   "cell_type": "code",
   "execution_count": 1,
   "id": "f6a17c42-b5cd-4685-9c3d-de2c981ceabf",
   "metadata": {},
   "outputs": [
    {
     "data": {
      "text/plain": [
       "(1, 2)"
      ]
     },
     "execution_count": 1,
     "metadata": {},
     "output_type": "execute_result"
    }
   ],
   "source": [
    "(1,) + (2, )"
   ]
  },
  {
   "cell_type": "code",
   "execution_count": 5,
   "id": "882ef723-2430-44e0-80f4-974f51f42b14",
   "metadata": {},
   "outputs": [],
   "source": [
    "diffs = {-3, -2, -1, 0, 1, 2, 3}"
   ]
  },
  {
   "cell_type": "code",
   "execution_count": 2,
   "id": "77450ceb-5387-43f8-8e56-1477aaec6b8b",
   "metadata": {},
   "outputs": [],
   "source": [
    "import tqdm"
   ]
  },
  {
   "cell_type": "code",
   "execution_count": 50,
   "id": "9600d7de-deb3-416b-afe6-520322a1ee28",
   "metadata": {},
   "outputs": [],
   "source": [
    "c_new = set([])\n",
    "for i in a:\n",
    "    for j in diffs:\n",
    "        c_new.add((i, i+j))\n",
    "        c_new.add((i+j, i))\n",
    "c.append(c_new)"
   ]
  },
  {
   "cell_type": "code",
   "execution_count": 1,
   "id": "16db0d60-d225-4f68-8385-41538e26a5a1",
   "metadata": {},
   "outputs": [
    {
     "name": "stderr",
     "output_type": "stream",
     "text": [
      "100%|██████████| 3/3 [00:00<00:00, 2598.70it/s]\n"
     ]
    },
    {
     "name": "stdout",
     "output_type": "stream",
     "text": [
      "33 : 16\n"
     ]
    },
    {
     "name": "stderr",
     "output_type": "stream",
     "text": [
      "100%|██████████| 33/33 [00:00<00:00, 16190.44it/s]\n"
     ]
    },
    {
     "name": "stdout",
     "output_type": "stream",
     "text": [
      "287 : 15\n"
     ]
    },
    {
     "name": "stderr",
     "output_type": "stream",
     "text": [
      "100%|██████████| 287/287 [00:00<00:00, 25152.85it/s]\n"
     ]
    },
    {
     "name": "stdout",
     "output_type": "stream",
     "text": [
      "2329 : 0\n"
     ]
    },
    {
     "name": "stderr",
     "output_type": "stream",
     "text": [
      "100%|██████████| 2329/2329 [00:00<00:00, 32600.90it/s]\n"
     ]
    },
    {
     "name": "stdout",
     "output_type": "stream",
     "text": [
      "18235 : 11\n"
     ]
    },
    {
     "name": "stderr",
     "output_type": "stream",
     "text": [
      "100%|██████████| 18235/18235 [00:00<00:00, 38217.49it/s]\n"
     ]
    },
    {
     "name": "stdout",
     "output_type": "stream",
     "text": [
      "139721 : 15\n"
     ]
    },
    {
     "name": "stderr",
     "output_type": "stream",
     "text": [
      " 56%|█████▌    | 78567/139721 [00:01<00:00, 64789.74it/s]\n"
     ]
    },
    {
     "ename": "KeyboardInterrupt",
     "evalue": "",
     "output_type": "error",
     "traceback": [
      "\u001b[1;31m---------------------------------------------------------------------------\u001b[0m",
      "\u001b[1;31mKeyboardInterrupt\u001b[0m                         Traceback (most recent call last)",
      "\u001b[1;32m~\\AppData\\Local\\Temp/ipykernel_27540/1359737735.py\u001b[0m in \u001b[0;36m<module>\u001b[1;34m\u001b[0m\n\u001b[0;32m      8\u001b[0m     \u001b[0mc_new\u001b[0m \u001b[1;33m=\u001b[0m \u001b[0mset\u001b[0m\u001b[1;33m(\u001b[0m\u001b[1;33m[\u001b[0m\u001b[1;33m]\u001b[0m\u001b[1;33m)\u001b[0m\u001b[1;33m\u001b[0m\u001b[1;33m\u001b[0m\u001b[0m\n\u001b[0;32m      9\u001b[0m     \u001b[1;32mfor\u001b[0m \u001b[0mi\u001b[0m \u001b[1;32min\u001b[0m \u001b[0mtqdm\u001b[0m\u001b[1;33m.\u001b[0m\u001b[0mtqdm\u001b[0m\u001b[1;33m(\u001b[0m\u001b[0mc\u001b[0m\u001b[1;33m[\u001b[0m\u001b[1;33m-\u001b[0m\u001b[1;36m1\u001b[0m\u001b[1;33m]\u001b[0m\u001b[1;33m)\u001b[0m\u001b[1;33m:\u001b[0m\u001b[1;33m\u001b[0m\u001b[1;33m\u001b[0m\u001b[0m\n\u001b[1;32m---> 10\u001b[1;33m         \u001b[1;32mfor\u001b[0m \u001b[0mj\u001b[0m \u001b[1;32min\u001b[0m \u001b[0mdiffs\u001b[0m\u001b[1;33m:\u001b[0m\u001b[1;33m\u001b[0m\u001b[1;33m\u001b[0m\u001b[0m\n\u001b[0m\u001b[0;32m     11\u001b[0m             \u001b[0mc_new\u001b[0m\u001b[1;33m.\u001b[0m\u001b[0madd\u001b[0m\u001b[1;33m(\u001b[0m\u001b[0mi\u001b[0m \u001b[1;33m+\u001b[0m \u001b[1;33m(\u001b[0m\u001b[0mi\u001b[0m\u001b[1;33m[\u001b[0m\u001b[1;33m-\u001b[0m\u001b[1;36m1\u001b[0m\u001b[1;33m]\u001b[0m\u001b[1;33m+\u001b[0m\u001b[0mj\u001b[0m\u001b[1;33m,\u001b[0m\u001b[1;33m)\u001b[0m \u001b[1;33m)\u001b[0m\u001b[1;33m\u001b[0m\u001b[1;33m\u001b[0m\u001b[0m\n\u001b[0;32m     12\u001b[0m             \u001b[0mc_new\u001b[0m\u001b[1;33m.\u001b[0m\u001b[0madd\u001b[0m\u001b[1;33m(\u001b[0m\u001b[1;33m(\u001b[0m\u001b[0mi\u001b[0m\u001b[1;33m[\u001b[0m\u001b[1;36m0\u001b[0m\u001b[1;33m]\u001b[0m\u001b[1;33m+\u001b[0m\u001b[0mj\u001b[0m\u001b[1;33m,\u001b[0m\u001b[1;33m)\u001b[0m \u001b[1;33m+\u001b[0m \u001b[0mi\u001b[0m\u001b[1;33m)\u001b[0m\u001b[1;33m\u001b[0m\u001b[1;33m\u001b[0m\u001b[0m\n",
      "\u001b[1;31mKeyboardInterrupt\u001b[0m: "
     ]
    }
   ],
   "source": [
    "import tqdm\n",
    "\n",
    "c = []\n",
    "c.append({(5,), (6,), (7,)})\n",
    "diffs = {-3, -2, -1, 0, 1, 2, 3}\n",
    "\n",
    "while True:\n",
    "    c_new = set([])\n",
    "    for i in tqdm.tqdm(c[-1]):\n",
    "        for j in diffs:\n",
    "            c_new.add(i + (i[-1]+j,) )\n",
    "            c_new.add((i[0]+j,) + i)\n",
    "    print(f\"{len(c_new)} : {len(c_new) % 17}\")\n",
    "    c.append(c_new)"
   ]
  },
  {
   "cell_type": "code",
   "execution_count": 3,
   "id": "66a4c60f-45ef-45c6-9cd6-fce3424d2041",
   "metadata": {},
   "outputs": [
    {
     "name": "stdout",
     "output_type": "stream",
     "text": [
      "4\n",
      "9\n",
      "15\n",
      "22\n",
      "30\n",
      "39\n",
      "49\n",
      "60\n",
      "72\n",
      "85\n",
      "99\n",
      "114\n",
      "130\n",
      "147\n",
      "165\n",
      "184\n",
      "204\n",
      "225\n",
      "247\n",
      "270\n",
      "294\n",
      "319\n",
      "345\n",
      "372\n",
      "400\n",
      "429\n",
      "459\n",
      "490\n",
      "522\n",
      "555\n",
      "589\n",
      "624\n",
      "660\n",
      "697\n",
      "735\n",
      "774\n",
      "814\n",
      "855\n",
      "897\n",
      "940\n",
      "984\n",
      "1029\n",
      "1075\n",
      "1122\n",
      "1170\n",
      "1219\n",
      "1269\n",
      "1320\n",
      "1372\n",
      "1425\n",
      "1479\n",
      "1534\n",
      "1590\n",
      "1647\n",
      "1705\n",
      "1764\n",
      "1824\n",
      "1885\n",
      "1947\n",
      "2010\n",
      "2074\n",
      "2139\n",
      "2205\n",
      "2272\n",
      "2340\n",
      "2409\n",
      "2479\n",
      "2550\n",
      "2622\n",
      "2695\n",
      "2769\n",
      "2844\n",
      "2920\n",
      "2997\n",
      "3075\n",
      "3154\n",
      "3234\n",
      "3315\n",
      "3397\n",
      "3480\n",
      "3564\n",
      "3649\n",
      "3735\n",
      "3822\n",
      "3910\n",
      "3999\n",
      "4089\n",
      "4180\n",
      "4272\n",
      "4365\n",
      "4459\n",
      "4554\n",
      "4650\n",
      "4747\n",
      "4845\n",
      "4944\n"
     ]
    }
   ],
   "source": [
    "s = 0\n",
    "for i in range(4, 100):\n",
    "    s += i\n",
    "    print(s)"
   ]
  },
  {
   "cell_type": "code",
   "execution_count": 4,
   "id": "899a426e-42c2-4613-a294-1b9f29eb9ad5",
   "metadata": {},
   "outputs": [
    {
     "name": "stdout",
     "output_type": "stream",
     "text": [
      "3 : 3\n",
      "33 : 16\n",
      "287 : 15\n",
      "2329 : 0\n",
      "18235 : 11\n",
      "139721 : 15\n",
      "1055119 : 14\n",
      "7884901 : 12\n"
     ]
    }
   ],
   "source": [
    "for j in c:\n",
    "    print(f\"{len(j)} : {len(j)%17}\")"
   ]
  },
  {
   "cell_type": "code",
   "execution_count": 7,
   "id": "4d103c1a-815c-4554-9bb0-3e2abd028b8d",
   "metadata": {},
   "outputs": [
    {
     "data": {
      "text/plain": [
       "175"
      ]
     },
     "execution_count": 7,
     "metadata": {},
     "output_type": "execute_result"
    }
   ],
   "source": [
    "14*33-287"
   ]
  },
  {
   "cell_type": "code",
   "execution_count": 23,
   "id": "211acebe-1d12-4115-a5f6-6cafb46e6cc3",
   "metadata": {},
   "outputs": [
    {
     "data": {
      "text/plain": [
       "(1, 2, 1)"
      ]
     },
     "execution_count": 23,
     "metadata": {},
     "output_type": "execute_result"
    }
   ],
   "source": [
    "x + (1, )"
   ]
  },
  {
   "cell_type": "code",
   "execution_count": null,
   "id": "15182e64-02a8-4f1b-887c-3c8fda7df212",
   "metadata": {},
   "outputs": [],
   "source": []
  }
 ],
 "metadata": {
  "kernelspec": {
   "display_name": "Python 3 (ipykernel)",
   "language": "python",
   "name": "python3"
  },
  "language_info": {
   "codemirror_mode": {
    "name": "ipython",
    "version": 3
   },
   "file_extension": ".py",
   "mimetype": "text/x-python",
   "name": "python",
   "nbconvert_exporter": "python",
   "pygments_lexer": "ipython3",
   "version": "3.7.4"
  }
 },
 "nbformat": 4,
 "nbformat_minor": 5
}
